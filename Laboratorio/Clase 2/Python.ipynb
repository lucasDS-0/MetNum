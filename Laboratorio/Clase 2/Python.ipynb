{
 "cells": [
  {
   "cell_type": "markdown",
   "metadata": {
    "id": "99_4eyfyxskq"
   },
   "source": [
    "# Introducción a Python\n",
    "\n"
   ]
  },
  {
   "cell_type": "markdown",
   "metadata": {
    "id": "1RiFw5nsxskw"
   },
   "source": [
    "1. Programa el comportamiento de un modulo de un numero, es decir, si el numero es negativo le cambia el signo. Si el numero es positivo lo deja tal como esta"
   ]
  },
  {
   "cell_type": "code",
   "execution_count": 2,
   "metadata": {
    "colab": {
     "base_uri": "https://localhost:8080/"
    },
    "executionInfo": {
     "elapsed": 4,
     "status": "ok",
     "timestamp": 1648852340282,
     "user": {
      "displayName": "Federico Pousa",
      "userId": "11923140000981592727"
     },
     "user_tz": 180
    },
    "id": "_F2eD3-Hxskx",
    "outputId": "ec05f083-9bcc-4868-c2e9-479b420e3025"
   },
   "outputs": [],
   "source": [
    "def modulo(x):\n",
    "    if x < 0:\n",
    "        return -x\n",
    "    else:\n",
    "        return x"
   ]
  },
  {
   "cell_type": "markdown",
   "metadata": {
    "id": "cy6c9-7Sxskz"
   },
   "source": [
    "2. El siguiente codigo imprime por pantalla si un numero es divisible por otro. Este codigo tiene un error, descubralo y arreglelo."
   ]
  },
  {
   "cell_type": "code",
   "execution_count": 3,
   "metadata": {
    "id": "H244tq6Yxskz"
   },
   "outputs": [
    {
     "name": "stdout",
     "output_type": "stream",
     "text": [
      "2 NO divide a  7\n"
     ]
    }
   ],
   "source": [
    "a = 7\n",
    "b = 2\n",
    "if a%b == 0:\n",
    "    print(b,'divide a ',a)\n",
    "else:\n",
    "    print(b,'NO divide a ',a)\n"
   ]
  },
  {
   "cell_type": "markdown",
   "metadata": {
    "id": "N5pqxXhexsk1"
   },
   "source": [
    "3. Escriba un código que imprima por pantalla si un numero es divisible por 3 y por 2. Debe imprimir todas las condiciones posibles, es decir, si es divisible por uno y no por el otro."
   ]
  },
  {
   "cell_type": "code",
   "execution_count": 15,
   "metadata": {
    "id": "KUhd8flDxsk1"
   },
   "outputs": [],
   "source": [
    "def es_divisible(x):\n",
    "    if x%3 == 0 and x%2 == 0:\n",
    "        print(x, \"es divisible por 2 y por 3\")\n",
    "    elif x%3 == 0 and x%2 != 0:\n",
    "        print(x, \"es solo divisible por 3\")\n",
    "    elif x%3 != 0 and x%2 == 0:\n",
    "        print(x, \"es solo divisible por 2\")\n",
    "    else:\n",
    "        print(x, \"no es divisible ni por 2 ni por 3\")\n",
    "        "
   ]
  },
  {
   "cell_type": "markdown",
   "metadata": {
    "id": "8Nw3oWEYxsk2"
   },
   "source": [
    "4. Escriba un código para dado un entero del 1 al 7 imprima el dia de la semana. Ahora escriba tambien una solución que resuelva lo mismo pero no use ningun if"
   ]
  },
  {
   "cell_type": "code",
   "execution_count": 23,
   "metadata": {
    "id": "tUqkWIBJxsk4"
   },
   "outputs": [],
   "source": [
    "def dia(x):\n",
    "    dias = {1 : 'Domingo',\n",
    "            2 : 'Lunes',\n",
    "            3 : 'Martes',\n",
    "            4 : 'Miercoles',\n",
    "            5 : 'Jueves',\n",
    "            6 : 'Viernes',\n",
    "            7 : 'Sábado'}\n",
    "    return dias[x]\n"
   ]
  },
  {
   "cell_type": "markdown",
   "metadata": {
    "id": "f0ijhQ29xsk5"
   },
   "source": [
    "## Ejercicios con Ciclos\n",
    "referencias: https://www.w3schools.com/python/python_for_loops.asp"
   ]
  },
  {
   "cell_type": "markdown",
   "metadata": {
    "id": "YzwK6jO6xsk6"
   },
   "source": [
    "5. Escriba un codigo que imprima los numeros del uno al 10 un numero por linea."
   ]
  },
  {
   "cell_type": "code",
   "execution_count": 28,
   "metadata": {
    "id": "n7ZS7UCCxsk6"
   },
   "outputs": [],
   "source": [
    "def hasta_diez():\n",
    "    for i in range (1,11) : print(i)"
   ]
  },
  {
   "cell_type": "markdown",
   "metadata": {
    "id": "uSIaKE_uxsk7"
   },
   "source": [
    "6. Imprima lo mismo del ejercicio anterior pero usando for y range.\n",
    "\n"
   ]
  },
  {
   "cell_type": "code",
   "execution_count": 29,
   "metadata": {
    "id": "P_iXE9D-xsk7"
   },
   "outputs": [],
   "source": [
    "def hasta_diez():\n",
    "    for i in range (1,11) : print(i)"
   ]
  },
  {
   "cell_type": "markdown",
   "metadata": {
    "id": "HyclvJJ_xsk8"
   },
   "source": [
    "7. Guarde en una lista todos los numeros menores a 100 que sean pares\n",
    "\n"
   ]
  },
  {
   "cell_type": "code",
   "execution_count": 30,
   "metadata": {
    "id": "lcp1mtIixsk8"
   },
   "outputs": [
    {
     "name": "stdout",
     "output_type": "stream",
     "text": [
      "[2, 4, 6, 8, 10, 12, 14, 16, 18, 20, 22, 24, 26, 28, 30, 32, 34, 36, 38, 40, 42, 44, 46, 48, 50, 52, 54, 56, 58, 60, 62, 64, 66, 68, 70, 72, 74, 76, 78, 80, 82, 84, 86, 88, 90, 92, 94, 96, 98]\n"
     ]
    }
   ],
   "source": [
    "numeros_pares_menores_a_100 = []\n",
    "for i in range(1,100):\n",
    "    # Chequeamos si el numero que estoy usando para iterar es par o no\n",
    "    if i%2 == 0:\n",
    "        # Si estoy aca es porque el numero es par, entonces lo agrego a la lista numeros_pares_menores_a_100\n",
    "        numeros_pares_menores_a_100.append(i)\n",
    "        \n",
    "# Imprimo los numeros pares menores a 100 \n",
    "print(numeros_pares_menores_a_100)\n",
    "    \n",
    "        "
   ]
  },
  {
   "cell_type": "markdown",
   "metadata": {
    "id": "vwuit_H_xsk8"
   },
   "source": [
    "8. Calcule todos los divisores de un número $n$. Pruebe distintos valores para la variable $n$. Pruebe escribirlos con un $while$ y con un $for$\n",
    "\n"
   ]
  },
  {
   "cell_type": "code",
   "execution_count": 32,
   "metadata": {
    "id": "DqsOOWojxsk9"
   },
   "outputs": [
    {
     "name": "stdout",
     "output_type": "stream",
     "text": [
      "[1, 3, 41, 123]\n"
     ]
    }
   ],
   "source": [
    "n = 123\n",
    "lista_de_divisores = []\n",
    "for i in range(1, n+1):\n",
    "    if n%i == 0 : lista_de_divisores.append(i)\n",
    "# Imprimo los divisores de a 1 \n",
    "print(lista_de_divisores)\n",
    "\n"
   ]
  },
  {
   "cell_type": "markdown",
   "metadata": {
    "id": "IwuDBNERxsk-"
   },
   "source": [
    "9. Imprima por pantalla todos los numeros primos menos a $n$, pruebe con diferentes valores de $n$\n",
    "\n"
   ]
  },
  {
   "cell_type": "code",
   "execution_count": 45,
   "metadata": {
    "id": "nB-zbEybxsk-"
   },
   "outputs": [],
   "source": [
    "def divisores(x):\n",
    "    lista_de_divisores = []\n",
    "    for i in range(1, x+1):\n",
    "        if x%i == 0 : lista_de_divisores.append(i)\n",
    "    return lista_de_divisores\n",
    "\n",
    "def primos(n):\n",
    "    lista_de_primos = [1]\n",
    "    for i in range (2, n):\n",
    "        if divisores(i) in [[i], [1,i]] : lista_de_primos.append(i)\n",
    "    return lista_de_primos\n",
    "\n"
   ]
  },
  {
   "cell_type": "markdown",
   "metadata": {
    "id": "-3UVUOoUxsk_"
   },
   "source": [
    "## Ejercicios con funciones"
   ]
  },
  {
   "cell_type": "markdown",
   "metadata": {
    "id": "edtda4Swxsk_"
   },
   "source": [
    "10. Encapsule las funciones de los ejercicios 8 y 9 de modo que tomen el parámetro $n$. Experimente con diferentes parámetros"
   ]
  },
  {
   "cell_type": "code",
   "execution_count": 47,
   "metadata": {
    "id": "WtrRHSsKxsk_"
   },
   "outputs": [],
   "source": [
    "# Funcion lista de divisores\n",
    "def divisores(x):\n",
    "    lista_de_divisores = []\n",
    "    for i in range(1, x+1):\n",
    "        if x%i == 0 : lista_de_divisores.append(i)\n",
    "    return lista_de_divisores\n",
    "# Funcion codigo numeros primos menores a n\n",
    "def primos(n):\n",
    "    lista_de_primos = [1]\n",
    "    for i in range (2, n):\n",
    "        if divisores(i) in [[i], [1,i]] : lista_de_primos.append(i)\n",
    "    return lista_de_primos\n",
    "\n",
    "\n"
   ]
  },
  {
   "cell_type": "markdown",
   "metadata": {
    "id": "f_K6fnckxslA"
   },
   "source": [
    "11. Escriba una funcion que calcule todos los numeros divisibles por 7 pero no multiplos de 5 entre 1000 y 5000.\n",
    "\n",
    "La funcion debe devolver una lista con estos numeros\n",
    "Hints: Puede usar la funcion range(desde,hasta)\n"
   ]
  },
  {
   "cell_type": "code",
   "execution_count": 49,
   "metadata": {},
   "outputs": [],
   "source": [
    "def div_7_no_5():\n",
    "    lista_res = []\n",
    "    for i in range(1000, 5000):\n",
    "        if i%7 == 0 and i%5 != 0 : lista_res.append(i)\n",
    "    return lista_res"
   ]
  },
  {
   "cell_type": "markdown",
   "metadata": {
    "id": "hGCYDmQYxslA"
   },
   "source": [
    "12. Haga una función que calcule el factorial de un numero $n$"
   ]
  },
  {
   "cell_type": "code",
   "execution_count": 50,
   "metadata": {
    "id": "iFyX_hstxslA"
   },
   "outputs": [],
   "source": [
    "def factorial(n):\n",
    "    res = 1\n",
    "    for i in range(2,n+1):\n",
    "        res = res * i\n",
    "    return res\n",
    "    "
   ]
  },
  {
   "cell_type": "markdown",
   "metadata": {
    "id": "slI1ufw9xslB"
   },
   "source": [
    "13. Escriba una función que devuelva un diccionario donde las claves sean los numeros del 1 al $n$ (con $n$ parametro de la función) y en el significado de cada clave este guardado el cuadrado de ese numero.\n",
    "\n",
    "Por ejemplo si a la función le entra un 4 la funcion debe devolver {1:1,2:4,3:9,4:16}"
   ]
  },
  {
   "cell_type": "code",
   "execution_count": 54,
   "metadata": {
    "id": "mHy0TbcOxslB"
   },
   "outputs": [],
   "source": [
    "def cuadrados_dic(n):\n",
    "    dic = []\n",
    "    for i in range (1,n+1):\n",
    "        dic.append({i : i**2})\n",
    "    return dic\n"
   ]
  },
  {
   "cell_type": "markdown",
   "metadata": {
    "id": "GPaoW73ZxslB"
   },
   "source": [
    "14. Escriba una función que tome una lista de enteros y devuelva una lista de lista, donde cada lista contenga los divisores del numero correspondiente.\n",
    "\n",
    "Por ejemplo si función toma como entrada [3,6,12,11], la salida debe ser [[1,3],[1,2,3,6],[1,2,3,6,12],[1,11]]"
   ]
  },
  {
   "cell_type": "code",
   "execution_count": 63,
   "metadata": {
    "id": "xsKtPwt2xslB"
   },
   "outputs": [
    {
     "data": {
      "text/plain": [
       "[[1, 3], [1, 2, 3, 6], [1, 2, 3, 4, 6, 12], [1, 11]]"
      ]
     },
     "execution_count": 63,
     "metadata": {},
     "output_type": "execute_result"
    }
   ],
   "source": [
    "def lista_divs(l):\n",
    "    for i in range(0,len(l)):\n",
    "        l[i] = divisores(l[i])\n",
    "    return l\n",
    "\n",
    "lista_divs([3,6,12,11])\n"
   ]
  },
  {
   "cell_type": "markdown",
   "metadata": {
    "id": "tlXbFbcyxslB"
   },
   "source": [
    "15. Escriba una función que tome un numero entero y devuelva una lista con tuplas con los numeros primos que lo dividen y la cantidad de veces que el numero primo lo divide.\n",
    "\n",
    "Por ejemplo, si entra el número 2223000 la función debe devolver: [(2,3),(3,2),(13,1),(19,1)] pues $2^3 \\times 3^2 \\times 13^1 \\times 19^1 = 2223000$"
   ]
  },
  {
   "cell_type": "code",
   "execution_count": 90,
   "metadata": {
    "id": "OaaiLRKNxslC"
   },
   "outputs": [
    {
     "data": {
      "text/plain": [
       "[(2, 3), (3, 2), (5, 3), (13, 1), (19, 1)]"
      ]
     },
     "execution_count": 90,
     "metadata": {},
     "output_type": "execute_result"
    }
   ],
   "source": [
    "\"\"\"\n",
    "Esto es una tupla en python, puede tener una cantidad fija \n",
    "pero arbitraria de elementos (es decir puede ser tan grande\n",
    "como se quiera pero no puede mutar)\"\"\"\n",
    "\n",
    "import math\n",
    "\n",
    "def factorizacion_unica(x):\n",
    "    factorizacion = []\n",
    "    veces = 0\n",
    "    div = 2\n",
    "    while div <= x:\n",
    "        while x%div == 0 and x != 0: \n",
    "            veces = veces + 1\n",
    "            x = x//div\n",
    "        if veces > 0 : \n",
    "            factorizacion.append((div, veces))\n",
    "        veces = 0\n",
    "        div = div + 1\n",
    "        \n",
    "    return factorizacion\n",
    "\n",
    "factorizacion_unica(2223000)"
   ]
  },
  {
   "cell_type": "markdown",
   "metadata": {
    "id": "5DvY3mnwxslC"
   },
   "source": [
    "16. Un número palíndromo se lee del derecho y el reves de la misma forma. El palindrome hecho por el producto de dos numeros de dos digitos mas grande es 9009 pues es producto de $91*99$\n",
    "\n",
    "Escriba un código para crear el palindromo más grande hecho por el pruducto de 2 numeros de 3 digitos\n",
    "\n",
    "Nota: Este ejercicio fue tomado de: https://projecteuler.net/problem=4\n"
   ]
  },
  {
   "cell_type": "code",
   "execution_count": 106,
   "metadata": {
    "id": "PnrCvwPxxslC"
   },
   "outputs": [
    {
     "data": {
      "text/plain": [
       "580085"
      ]
     },
     "execution_count": 106,
     "metadata": {},
     "output_type": "execute_result"
    }
   ],
   "source": [
    "def es_palindromo(x):\n",
    "    s = str(x)\n",
    "    l = list(s)\n",
    "    l.reverse()\n",
    "    s = \"\".join(l)\n",
    "    y = int(s)\n",
    "    return x == y\n",
    "\n",
    "def palindromo_3_digitos():\n",
    "    x = 999\n",
    "    y = 999\n",
    "    while x > 100:\n",
    "        while y > 100:\n",
    "            if es_palindromo(x*y) : return x*y\n",
    "            y = y-1\n",
    "        y = x\n",
    "        x = x - 1\n",
    "        \n",
    "palindromo_3_digitos()\n"
   ]
  },
  {
   "cell_type": "markdown",
   "metadata": {
    "id": "qjjDObK5xslC"
   },
   "source": [
    "17. Escriba una función que devuelve el $i-esimo$ número de la sucesión de Fibonacci  (https://en.wikipedia.org/wiki/Fibonacci_number)"
   ]
  },
  {
   "cell_type": "code",
   "execution_count": 113,
   "metadata": {
    "id": "9-sNBAKjxslC"
   },
   "outputs": [],
   "source": [
    "def fib(i):\n",
    "    lista_fib = [0,1]\n",
    "    if i < 3 : return lista_fib[i-1]\n",
    "    for j in range(3,i+1):\n",
    "        lista_fib.append(lista_fib[j-2] + lista_fib[j-3])\n",
    "    return lista_fib[-1]\n"
   ]
  },
  {
   "cell_type": "code",
   "execution_count": null,
   "metadata": {},
   "outputs": [],
   "source": []
  }
 ],
 "metadata": {
  "colab": {
   "collapsed_sections": [],
   "name": "Python.ipynb",
   "provenance": []
  },
  "kernelspec": {
   "display_name": "Python 3 (ipykernel)",
   "language": "python",
   "name": "python3"
  },
  "language_info": {
   "codemirror_mode": {
    "name": "ipython",
    "version": 3
   },
   "file_extension": ".py",
   "mimetype": "text/x-python",
   "name": "python",
   "nbconvert_exporter": "python",
   "pygments_lexer": "ipython3",
   "version": "3.8.10"
  }
 },
 "nbformat": 4,
 "nbformat_minor": 4
}

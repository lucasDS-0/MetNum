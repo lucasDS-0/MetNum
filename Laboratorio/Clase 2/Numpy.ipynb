{
 "cells": [
  {
   "cell_type": "code",
   "execution_count": 1,
   "metadata": {},
   "outputs": [],
   "source": [
    "#H Hacemos los imports correspondientes a numpy\n",
    "import numpy as np\n",
    "import numpy.linalg as lng"
   ]
  },
  {
   "cell_type": "markdown",
   "metadata": {},
   "source": [
    "### Ejemplos\n",
    "Algunos ejemplos de operaciones matriciales básicas disponibles en numpy"
   ]
  },
  {
   "cell_type": "code",
   "execution_count": 2,
   "metadata": {},
   "outputs": [],
   "source": [
    "# Distintas maneras de inicializar una matriz\n",
    "A = np.array([[1,2],[3,4]])\n",
    "B = np.array(np.mat('9 10; 11 12')) # Subclase\n",
    "C = np.array([[5,6],[7,8]], dtype=float)\n",
    "\n",
    "# Para los vectores usamos matrices por columnas\n",
    "v = np.array([[11],[12]])\n",
    "w = np.array(np.mat('17; 18')) # Subclase\n",
    "x = np.array([21,22,23,24], ndmin=4)"
   ]
  },
  {
   "cell_type": "code",
   "execution_count": 6,
   "metadata": {},
   "outputs": [
    {
     "data": {
      "text/plain": [
       "array([[-2. ,  1. ],\n",
       "       [ 1.5, -0.5]])"
      ]
     },
     "execution_count": 6,
     "metadata": {},
     "output_type": "execute_result"
    }
   ],
   "source": [
    "# Matrices especiales\n",
    "I = np.eye(3) # Identidad de 3x3\n",
    "D = np.diag([77,90]) # Matriz diagonal\n",
    "N = np.zeros((3,4)) # Matriz nula de 3x3\n",
    "\n",
    "# Operaciones basicas entre matrices y vectores\n",
    "A + B       # Suma\n",
    "A - B       # Resta\n",
    "A @ B       # Producto de matrices\n",
    "A @ v       # Producto de matriz por vector\n",
    "3.2 * A     # Producto por escalar\n",
    "A**2        # Potencia\n",
    "A.T         # Traspuesta (transpose())\n",
    "lng.inv(A)  # Inversa"
   ]
  },
  {
   "cell_type": "markdown",
   "metadata": {},
   "source": [
    "### Ejercicio 1\n",
    "Dados x<sub>1</sub>, ..., x<sub>n</sub> una muestra de una variable aleatoria, implementar rutinas que calculen la media y la varianza utilizando operaciones vectoriales."
   ]
  },
  {
   "cell_type": "code",
   "execution_count": 11,
   "metadata": {},
   "outputs": [
    {
     "data": {
      "text/plain": [
       "2.916666666666666"
      ]
     },
     "execution_count": 11,
     "metadata": {},
     "output_type": "execute_result"
    }
   ],
   "source": [
    "def mean(x):\n",
    "    return np.sum(x)/len(x)\n",
    "    \n",
    "def var(x):\n",
    "    return mean(np.power(x,2)) - mean(x)**2\n",
    "    \n",
    "mean([1,2,3,4,5,6])\n",
    "var([1,2,3,4,5,6])"
   ]
  },
  {
   "cell_type": "code",
   "execution_count": 12,
   "metadata": {},
   "outputs": [
    {
     "name": "stdout",
     "output_type": "stream",
     "text": [
      "x:[[0.32571914]\n",
      " [0.23048045]\n",
      " [0.13444035]\n",
      " [0.96646397]]\n",
      " media: 0.41427597617525636 varianza: 0.10621066814578478\n",
      "OK\n"
     ]
    }
   ],
   "source": [
    "N = 4\n",
    "x = np.array(np.random.rand(N,1))\n",
    "print(\"x:\" + str(x) + \"\\n media: \" + str(mean(x)) + \" varianza: \" + str(var(x)))\n",
    "assert(np.abs(mean(x) - np.mean(x)) < 1e-6 )\n",
    "assert(np.abs(var(x) - np.var(x)) < 1e-6 )\n",
    "print(\"OK\")"
   ]
  },
  {
   "cell_type": "markdown",
   "metadata": {},
   "source": [
    "### Ejercicio 2\n",
    "Sea A matriz en R<sup>m×n</sup><br>\n",
    "1. Demostrar que A<sup>t</sup> A y AA<sup>t</sup> son simétricas<br>\n",
    "2. Implementar una rutina que dada una matriz cuadrada verifique si la misma es simétrica"
   ]
  },
  {
   "cell_type": "code",
   "execution_count": 18,
   "metadata": {},
   "outputs": [],
   "source": [
    "def esSimetrica(A):    \n",
    "    err = 0\n",
    "    return np.all(A - A.T < 1e-6)\n"
   ]
  },
  {
   "cell_type": "code",
   "execution_count": 19,
   "metadata": {},
   "outputs": [
    {
     "name": "stdout",
     "output_type": "stream",
     "text": [
      "A: \n",
      "[[1 2]\n",
      " [2 6]\n",
      " [3 7]\n",
      " [4 8]]\n",
      "B: \n",
      "[[0.64334487 0.1682916  0.3945534  0.17772043]\n",
      " [0.12845538 0.95998806 0.17515297 0.03424048]\n",
      " [0.03935407 0.39346915 0.62611597 0.04262958]\n",
      " [0.108462   0.61508519 0.8043447  0.21278135]]\n",
      "OK\n"
     ]
    }
   ],
   "source": [
    "A = np.array([[1,2],[2,6],[3,7],[4,8]])\n",
    "B = np.random.rand(4,4)\n",
    "\n",
    "print(\"A: \\n\"  + str(A))\n",
    "print(\"B: \\n\" + str(B))\n",
    "assert(esSimetrica(A @ A.T))\n",
    "assert(esSimetrica(B.T @ B))\n",
    "print(\"OK\")"
   ]
  },
  {
   "cell_type": "markdown",
   "metadata": {},
   "source": [
    "### Ejercicio 3\n",
    "\n",
    "Analizar la función implementada en el item anterior con la matriz B generada de la siguiente forma:\n",
    "\n",
    "`A = np.random.rand(4,4)\n",
    "B = A.T * A * 0.1 / 0.1`\n",
    "\n",
    "Analizar el resultado, revisar la implementación y (eventualmente) reimplementar la función."
   ]
  },
  {
   "cell_type": "code",
   "execution_count": 20,
   "metadata": {},
   "outputs": [
    {
     "name": "stdout",
     "output_type": "stream",
     "text": [
      "[[0.47987448 0.64142052 0.11905974 0.8467377 ]\n",
      " [0.71478304 0.04018733 0.0508353  0.51634011]\n",
      " [0.80085944 0.73229749 0.32931758 0.01757128]\n",
      " [0.25136342 0.68413718 0.18540244 0.17090141]]\n",
      "Ok\n"
     ]
    }
   ],
   "source": [
    "D = np.array(np.diag([1,2]))\n",
    "I = np.array(np.eye(5))\n",
    "A = np.random.rand(4,4)\n",
    "\n",
    "print(A)\n",
    "assert(not(esSimetrica(A)))\n",
    "\n",
    "# Ojo! usamos @ para el producto matricial\n",
    "assert(esSimetrica(A.T@(A*0.10)/0.10))\n",
    "assert(esSimetrica(D) and esSimetrica(I))\n",
    "print(\"Ok\")"
   ]
  },
  {
   "cell_type": "markdown",
   "metadata": {},
   "source": [
    "### Ejercicio 4\n",
    "Sean A, B en R<sup>n×n</sup>, con n par y B triangular inferior,\n",
    "1. Realizar la multiplicación AB por bloques, partiendo ambas matrices en bloques de tamaño n/2.\n",
    "2. Implementar una rutina que realice la multiplicación por bloques, evitando cuentas innecesarias."
   ]
  },
  {
   "cell_type": "code",
   "execution_count": 24,
   "metadata": {},
   "outputs": [],
   "source": [
    "def block_multiplication(A,B): \n",
    "    \n",
    "    n = A.shape[0]\n",
    "    assert(n % 2 == 0)\n",
    "    n2 = int(n//2)\n",
    "    \n",
    "    # Completar\n",
    "    A11 = A[:n2,:n2]\n",
    "    A12 = A[:n2,n2:]\n",
    "    A21 = A[n2:,:n2]\n",
    "    A22 = A[n2:,n2:]\n",
    "    \n",
    "    B11 = B[:n2,:n2]\n",
    "    B12 = B[:n2,n2:]\n",
    "    B21 = B[n2:,:n2]\n",
    "    B22 = B[n2:,n2:]\n",
    "    \n",
    "    C_11 = A11 @ B11 + A12 @ B21 \n",
    "    C_12 = A11 @ B12 + A12 @ B22\n",
    "    C_21 = A21 @ B11 + A22 @ B21\n",
    "    C_22 = A21 @ B12 + A22 @ B22\n",
    "    \n",
    "    return np.block([[C_11,C_12],[C_21,C_22]])\n"
   ]
  },
  {
   "cell_type": "code",
   "execution_count": 25,
   "metadata": {},
   "outputs": [
    {
     "name": "stdout",
     "output_type": "stream",
     "text": [
      "Ok\n"
     ]
    }
   ],
   "source": [
    "N = 4\n",
    "A = np.array(np.random.rand(N,N))\n",
    "B = np.array(np.random.rand(N,N))\n",
    "assert(np.allclose(A @ B,block_multiplication(A,B)))\n",
    "\n",
    "print(\"Ok\")"
   ]
  },
  {
   "cell_type": "code",
   "execution_count": null,
   "metadata": {},
   "outputs": [],
   "source": []
  }
 ],
 "metadata": {
  "kernelspec": {
   "display_name": "Python 3 (ipykernel)",
   "language": "python",
   "name": "python3"
  },
  "language_info": {
   "codemirror_mode": {
    "name": "ipython",
    "version": 3
   },
   "file_extension": ".py",
   "mimetype": "text/x-python",
   "name": "python",
   "nbconvert_exporter": "python",
   "pygments_lexer": "ipython3",
   "version": "3.8.10"
  }
 },
 "nbformat": 4,
 "nbformat_minor": 4
}

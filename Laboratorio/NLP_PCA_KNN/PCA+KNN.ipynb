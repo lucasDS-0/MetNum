{
 "cells": [
  {
   "cell_type": "markdown",
   "metadata": {
    "id": "NUzhPc_WIGY5"
   },
   "source": [
    "# Análisis de Sentimiento - Parte 2 (PCA)\n",
    "\n",
    "\n",
    "Primero, bajemos los datos"
   ]
  },
  {
   "cell_type": "markdown",
   "metadata": {
    "colab": {
     "base_uri": "https://localhost:8080/"
    },
    "collapsed": true,
    "id": "9C1u3Ynu_zkF",
    "outputId": "965b6bf4-be34-4848-c0fc-771dff3bc6ff"
   },
   "source": [
    "#@title\n",
    "!wget https://github.com/finiteautomata/imdb-dataset/raw/master/imdb_dataset.csv.zip\n",
    "!unzip imdb_dataset.csv.zip"
   ]
  },
  {
   "cell_type": "markdown",
   "metadata": {
    "id": "pUldpADdrgTH"
   },
   "source": [
    "## Método de la Potencia"
   ]
  },
  {
   "cell_type": "code",
   "execution_count": 19,
   "metadata": {
    "id": "pPF2JzZk1TfO"
   },
   "outputs": [],
   "source": [
    "#@title\n",
    "import numpy as np\n",
    "from numpy import linalg as LA\n",
    "\n",
    "def power_iteration(A, niter=1000, eps=1e-6):\n",
    "    b = np.random.rand(A.shape[1])\n",
    "    b = b / np.linalg.norm(b)\n",
    "\n",
    "    for i in range(niter):\n",
    "        old = b\n",
    "        b = A @ b\n",
    "        b = b / np.linalg.norm(b)\n",
    "\n",
    "        # Criterio de parada\n",
    "        # <a, b> = |a| |b| cos(angle)\n",
    "        # -1 < cos(angle) < 1\n",
    "        ## IMPORTANTE - criterio de parada adicional a niter > acelero el corte del método.\n",
    "        ## Otros criterios de convergencia: angulo A*x ~ w*x\n",
    "        cos_angle = np.dot(b, old)\n",
    "        if (1 - eps) < cos_angle <= 1:\n",
    "            print(f\"Paré en la iteración {i+1}\")\n",
    "            break\n",
    "\n",
    "    eigenvalue = np.dot(b, A @ b)\n",
    "\n",
    "    return eigenvalue, b\n",
    "\n"
   ]
  },
  {
   "cell_type": "code",
   "execution_count": 20,
   "metadata": {
    "colab": {
     "base_uri": "https://localhost:8080/"
    },
    "id": "M9We3yXw5iUl",
    "outputId": "32c25a3c-f601-489f-c9fa-f16dbe4c8e3f"
   },
   "outputs": [
    {
     "name": "stdout",
     "output_type": "stream",
     "text": [
      "[[10  0  0  0  0  0  0  0  0  0]\n",
      " [ 0  9  0  0  0  0  0  0  0  0]\n",
      " [ 0  0  8  0  0  0  0  0  0  0]\n",
      " [ 0  0  0  7  0  0  0  0  0  0]\n",
      " [ 0  0  0  0  6  0  0  0  0  0]\n",
      " [ 0  0  0  0  0  5  0  0  0  0]\n",
      " [ 0  0  0  0  0  0  4  0  0  0]\n",
      " [ 0  0  0  0  0  0  0  3  0  0]\n",
      " [ 0  0  0  0  0  0  0  0  2  0]\n",
      " [ 0  0  0  0  0  0  0  0  0  1]]\n"
     ]
    }
   ],
   "source": [
    "#@title\n",
    "D = np.diag(range(10, 0, -1))\n",
    "print(D)\n",
    "v = np.ones((D.shape[0], 1))\n",
    "v = v / np.linalg.norm(v)\n",
    "\n",
    "# Matriz de Householder\n",
    "B = np.eye(D.shape[0]) - 2 * (v @ v.T)\n",
    "\n",
    "# Matriz ya diagonalizada\n",
    "M = D\n",
    "\n"
   ]
  },
  {
   "cell_type": "code",
   "execution_count": 21,
   "metadata": {
    "colab": {
     "base_uri": "https://localhost:8080/"
    },
    "id": "7k0-OqXb1lMB",
    "outputId": "2db9321a-1c39-452b-dce6-61ba3ad6b6f2"
   },
   "outputs": [
    {
     "name": "stdout",
     "output_type": "stream",
     "text": [
      "Paré en la iteración 40\n",
      "CPU times: user 4.2 ms, sys: 80 µs, total: 4.28 ms\n",
      "Wall time: 3.28 ms\n"
     ]
    }
   ],
   "source": [
    "%%time\n",
    "l, v = power_iteration(M, niter=1000, eps=1e-6)"
   ]
  },
  {
   "cell_type": "code",
   "execution_count": 22,
   "metadata": {
    "cellView": "form",
    "colab": {
     "base_uri": "https://localhost:8080/"
    },
    "id": "FfhA3rkZ74sr",
    "outputId": "ca09364c-c673-463b-b661-07386f35afa0"
   },
   "outputs": [
    {
     "data": {
      "text/plain": [
       "(9.99986781045605,\n",
       " array([9.99933904e-01, 1.14972725e-02, 3.36605776e-05, 8.02453497e-07,\n",
       "        1.33465870e-09, 5.26925466e-13, 1.31081440e-17, 1.49197213e-21,\n",
       "        1.24974473e-28, 1.03097185e-41]))"
      ]
     },
     "execution_count": 22,
     "metadata": {},
     "output_type": "execute_result"
    }
   ],
   "source": [
    "l, v"
   ]
  },
  {
   "cell_type": "markdown",
   "metadata": {
    "id": "tSlfjykGKPz_"
   },
   "source": [
    "## Método de la potencia + deflación"
   ]
  },
  {
   "cell_type": "code",
   "execution_count": 23,
   "metadata": {
    "id": "QHgIjTT4qzCY"
   },
   "outputs": [],
   "source": [
    "def eigen(A, num, **kwargs):\n",
    "    A = A.copy()\n",
    "    eigenvalues = []\n",
    "    eigenvectors = np.zeros((A.shape[0], num))\n",
    "    \n",
    "    for i in range(num):\n",
    "        print(f\"Autovalor {i+1}\")\n",
    "        l, v = power_iteration(A, **kwargs)\n",
    "        eigenvalues.append(l)\n",
    "        eigenvectors[:, i] = v\n",
    "        A = A - l * np.outer(v, v)\n",
    "        \n",
    "    return np.array(eigenvalues), eigenvectors\n"
   ]
  },
  {
   "cell_type": "code",
   "execution_count": 24,
   "metadata": {
    "colab": {
     "base_uri": "https://localhost:8080/"
    },
    "id": "oNw3RC6UV_S4",
    "outputId": "d580c444-6c43-4874-e2a1-9c0f0b97a25a"
   },
   "outputs": [
    {
     "name": "stdout",
     "output_type": "stream",
     "text": [
      "Autovalor 1\n",
      "Paré en la iteración 34\n",
      "Autovalor 2\n",
      "Paré en la iteración 25\n",
      "Autovalor 3\n",
      "Paré en la iteración 34\n",
      "Autovalor 4\n",
      "Paré en la iteración 37\n",
      "Autovalor 5\n",
      "Paré en la iteración 25\n",
      "Autovalor 6\n",
      "Paré en la iteración 26\n",
      "Autovalor 7\n",
      "Paré en la iteración 19\n",
      "Autovalor 8\n",
      "Paré en la iteración 17\n",
      "Autovalor 9\n",
      "Paré en la iteración 11\n",
      "Autovalor 10\n",
      "Paré en la iteración 2\n",
      "[9.9998661  9.00005767 7.99999813 7.00006467 6.00001768 5.0000298\n",
      " 4.00001574 3.00001711 2.00000506 1.0000028 ]\n",
      "[[-0.7975438   0.21250998  0.20023806  0.19865013  0.1996453   0.19938435\n",
      "   0.19952618  0.1993495   0.19961553  0.19952794]\n",
      " [ 0.19083574 -0.80020658  0.20989759  0.20154466  0.19969952  0.19938412\n",
      "   0.19952618  0.1993495   0.19961553  0.19952794]\n",
      " [ 0.20193176  0.19071903 -0.80010671  0.20972649  0.19953195  0.19938557\n",
      "   0.19952618  0.1993495   0.19961553  0.19952794]\n",
      " [ 0.20238697  0.19736145  0.19016088 -0.80121803  0.20826605  0.19931931\n",
      "   0.19952576  0.19934951  0.19961553  0.19952794]\n",
      " [ 0.20238933  0.19961624  0.19981039  0.19130043 -0.8002939   0.20752547\n",
      "   0.19957195  0.19934928  0.19961554  0.19952794]\n",
      " [ 0.20238935  0.19966813  0.19979553  0.19868601  0.19286176 -0.80056979\n",
      "   0.20583123  0.19931746  0.19961561  0.19952794]\n",
      " [ 0.20238935  0.19966825  0.19979575  0.19868968  0.19958119  0.19434065\n",
      "  -0.80044591  0.2046929   0.19960207  0.19952797]\n",
      " [ 0.20238935  0.19966825  0.19979575  0.19868968  0.1996459   0.19938336\n",
      "   0.19551856 -0.80063407  0.20272813  0.1995206 ]\n",
      " [ 0.20238935  0.19966825  0.19979575  0.19868968  0.19964592  0.19938435\n",
      "   0.1995246   0.19727443 -0.80037892  0.20189277]\n",
      " [ 0.20238935  0.19966825  0.19979575  0.19868968  0.19964592  0.19938435\n",
      "   0.19952618  0.1993495   0.19843311 -0.80046927]]\n",
      "[[ 0.8 -0.2 -0.2 -0.2 -0.2 -0.2 -0.2 -0.2 -0.2 -0.2]\n",
      " [-0.2  0.8 -0.2 -0.2 -0.2 -0.2 -0.2 -0.2 -0.2 -0.2]\n",
      " [-0.2 -0.2  0.8 -0.2 -0.2 -0.2 -0.2 -0.2 -0.2 -0.2]\n",
      " [-0.2 -0.2 -0.2  0.8 -0.2 -0.2 -0.2 -0.2 -0.2 -0.2]\n",
      " [-0.2 -0.2 -0.2 -0.2  0.8 -0.2 -0.2 -0.2 -0.2 -0.2]\n",
      " [-0.2 -0.2 -0.2 -0.2 -0.2  0.8 -0.2 -0.2 -0.2 -0.2]\n",
      " [-0.2 -0.2 -0.2 -0.2 -0.2 -0.2  0.8 -0.2 -0.2 -0.2]\n",
      " [-0.2 -0.2 -0.2 -0.2 -0.2 -0.2 -0.2  0.8 -0.2 -0.2]\n",
      " [-0.2 -0.2 -0.2 -0.2 -0.2 -0.2 -0.2 -0.2  0.8 -0.2]\n",
      " [-0.2 -0.2 -0.2 -0.2 -0.2 -0.2 -0.2 -0.2 -0.2  0.8]]\n"
     ]
    }
   ],
   "source": [
    "N = 10\n",
    "D = np.diag(range(N, 0, -1))\n",
    "\n",
    "v = np.ones((D.shape[0], 1))\n",
    "v = v / np.linalg.norm(v)\n",
    "\n",
    "# Matriz de Householder\n",
    "B = np.eye(D.shape[0]) - 2 * (v @ v.T)\n",
    "\n",
    "M = B.T @ D @ B\n",
    "# Sobre la misma de antes....ahora para todos...\n",
    "l, v = eigen(M, N, niter=5_000)\n",
    "print(l)\n",
    "print(v)\n",
    "print(B)"
   ]
  },
  {
   "cell_type": "code",
   "execution_count": null,
   "metadata": {
    "colab": {
     "base_uri": "https://localhost:8080/"
    },
    "id": "2XufXoT0iQsF",
    "outputId": "791dfe60-0c56-47a4-962e-484fce920470"
   },
   "outputs": [],
   "source": [
    "#@title\n",
    "A = np.array([\n",
    "  [7, 2, 3],\n",
    "  [0, 2, 0],\n",
    "  [-6, -2, -2]\n",
    "])\n",
    "\n",
    "\n",
    "w, V = eigen(A, num=3, niter=20000, eps=1e-24)\n",
    "print(\"w\")\n",
    "print(w)\n",
    "print(\"V\")\n",
    "print(V)"
   ]
  },
  {
   "cell_type": "code",
   "execution_count": null,
   "metadata": {
    "colab": {
     "base_uri": "https://localhost:8080/"
    },
    "id": "B_1pt4VIj92Q",
    "outputId": "247aeb1d-d373-48a7-e33e-bf2321d50df2"
   },
   "outputs": [],
   "source": [
    "print(A)\n",
    "for i in range(len(A)):\n",
    "    print(i)\n",
    "    print(np.allclose(A @ V[:, i], w[i] * V[:,i]))"
   ]
  },
  {
   "cell_type": "code",
   "execution_count": null,
   "metadata": {
    "colab": {
     "base_uri": "https://localhost:8080/"
    },
    "id": "-Aqn9p9W3mwB",
    "outputId": "cebef426-e87c-4b3f-fdd8-2179767243fa"
   },
   "outputs": [],
   "source": [
    "print(\"uso una biblioteca\")\n",
    "w2, V2 = LA.eig(A)\n",
    "print(w2, \"\\n\", V2)\n",
    "print(np.dot(V2[:,0],V2[:,2]))\n",
    "print(np.dot(V2[:,0],V2[:,1]))\n",
    "print(np.dot(V2[:,2],V2[:,1])) \n",
    "# no son ortogonales (repasar pdf teórico método potencia)"
   ]
  },
  {
   "cell_type": "code",
   "execution_count": null,
   "metadata": {
    "colab": {
     "base_uri": "https://localhost:8080/"
    },
    "id": "FHq_8UVz39qf",
    "outputId": "8e97c513-ce2f-477e-d39b-a3c2b1b70804"
   },
   "outputs": [],
   "source": [
    "#@title\n",
    "A = np.array([\n",
    "  [ 7,  2,  -3],\n",
    "  [ 2,  2,  -2],\n",
    "  [-3, -2,  -2]\n",
    "])\n",
    "w, V = eigen(A, num=3, niter=20000, eps=1e-24)\n",
    "for i in range(len(A)):\n",
    "    print(i)\n",
    "    print(np.allclose(A @ V[:, i], w[i] * V[:,i]))\n",
    "print(\"Gracias teorema espectral! (ver pdf teórico)\")  "
   ]
  },
  {
   "cell_type": "code",
   "execution_count": null,
   "metadata": {
    "colab": {
     "base_uri": "https://localhost:8080/"
    },
    "id": "cgra3OV0ruZb",
    "outputId": "3ccefc6d-e487-4b51-c958-c0fa9ec4ec48"
   },
   "outputs": [],
   "source": [
    "#@title\n",
    "\n",
    "AT = A @ A.T\n",
    "TA = A.T @ A\n",
    "wta, VTA = eigen(AT, num=3, niter=20000, eps=1e-24)\n",
    "wat, VAT = eigen(TA, num=3, niter=20000, eps=1e-24)\n",
    "print(\"Bingo :)\" if np.allclose(wat,wta) else \"Bongo :(\")\n"
   ]
  },
  {
   "cell_type": "markdown",
   "metadata": {
    "id": "BoTZ3W67rxI-"
   },
   "source": [
    "## Volvamos a Análisis de Sentimiento, aplicando PCA\n",
    "\n",
    "---\n",
    "\n"
   ]
  },
  {
   "cell_type": "code",
   "execution_count": 25,
   "metadata": {
    "colab": {
     "base_uri": "https://localhost:8080/"
    },
    "id": "s5S1vfeQoAmw",
    "outputId": "d439ab37-c9d4-44ad-d0df-b51fa5ad61ac"
   },
   "outputs": [
    {
     "name": "stdout",
     "output_type": "stream",
     "text": [
      "Class balance : 0.5007 pos 0.4993 neg\n",
      "Cantidad de documentos: 50000\n"
     ]
    }
   ],
   "source": [
    "#@title\n",
    "import pandas as pd \n",
    "import sklearn\n",
    "\n",
    "df = pd.read_csv(\"IMDB Dataset.csv\")\n",
    "df = df.sample(frac=1, random_state=2020)\n",
    "\n",
    "df_train = df[:10000]\n",
    "df_test = df[10000:13000]\n",
    "\n",
    "text_train, text_test = df_train[\"review\"], df_test[\"review\"]\n",
    "label_train, label_test = df_train[\"sentiment\"], df_test[\"sentiment\"]\n",
    "\n",
    "print(\"Class balance : {} pos {} neg\".format(\n",
    "    (label_train == 'positive').sum() / label_train.shape[0], \n",
    "    (label_train == 'negative').sum() / label_train.shape[0]\n",
    "))\n",
    "print(\"Cantidad de documentos: {}\".format(df.shape[0]))"
   ]
  },
  {
   "cell_type": "markdown",
   "metadata": {
    "id": "6P0JHXO_I7iv"
   },
   "source": [
    "label train & test\n"
   ]
  },
  {
   "cell_type": "code",
   "execution_count": 26,
   "metadata": {
    "id": "TYUymFYCrDxa"
   },
   "outputs": [],
   "source": [
    "#@title\n",
    "from sklearn.feature_extraction.text import CountVectorizer\n",
    "\n",
    "vect = CountVectorizer(min_df=3, max_features=5000, binary=True)\n",
    "# Convert a collection of text documents to a matrix of token counts.\n",
    "\n",
    "vect.fit(text_train)\n",
    "\n",
    "X_train = vect.transform(text_train)\n",
    "X_test = vect.transform(text_test)\n",
    "\n",
    "y_train = label_train# == 'positive' # Convertimos a vectores booleanos\n",
    "y_test = label_test# == \"positive\""
   ]
  },
  {
   "cell_type": "markdown",
   "metadata": {
    "id": "Jc4fmbpMPu1M"
   },
   "source": [
    "## PCA\n",
    "\n",
    "Vamos a ver una técnica para reducir la dimensionalidad y aún así mantener la mayor cantidad de información posible.\n",
    "\n",
    "Recordemos que, dada X su matriz de covarianza $M_X$ es\n",
    "\n",
    "$$ M_X = \\frac{X^T X}{n-1} $$\n",
    "\n",
    "En primer lugar, calculemos la matriz de covarianza de $X_{train}$"
   ]
  },
  {
   "cell_type": "code",
   "execution_count": 27,
   "metadata": {
    "id": "znT2NgA2PwFM"
   },
   "outputs": [],
   "source": [
    "#@title\n",
    "import numpy as np\n",
    "\n",
    "# Esto es porque me lo convierte a np.matrix si no\n",
    "X = np.array(X_train - X_train.mean(axis=0))\n",
    "\n",
    "cov_matrix = X.T @ X / (X.shape[0]-1) "
   ]
  },
  {
   "cell_type": "code",
   "execution_count": 28,
   "metadata": {
    "colab": {
     "base_uri": "https://localhost:8080/"
    },
    "id": "D7NTZcwXFQda",
    "outputId": "9c51deb7-fddc-4ac9-d3b8-a132b769c958"
   },
   "outputs": [
    {
     "name": "stdout",
     "output_type": "stream",
     "text": [
      "Autovalor 1\n",
      "Paré en la iteración 5\n",
      "Autovalor 2\n",
      "Paré en la iteración 9\n",
      "Autovalor 3\n",
      "Paré en la iteración 173\n",
      "Autovalor 4\n",
      "Paré en la iteración 54\n",
      "Autovalor 5\n",
      "Paré en la iteración 58\n",
      "Autovalor 6\n",
      "Paré en la iteración 61\n",
      "Autovalor 7\n",
      "Paré en la iteración 84\n",
      "Autovalor 8\n",
      "Paré en la iteración 48\n",
      "Autovalor 9\n",
      "Paré en la iteración 348\n",
      "Autovalor 10\n",
      "Paré en la iteración 119\n",
      "Autovalor 11\n",
      "Paré en la iteración 61\n",
      "Autovalor 12\n",
      "Paré en la iteración 84\n",
      "Autovalor 13\n",
      "Paré en la iteración 145\n",
      "Autovalor 14\n",
      "Paré en la iteración 125\n",
      "Autovalor 15\n",
      "Paré en la iteración 153\n",
      "Autovalor 16\n",
      "Paré en la iteración 129\n",
      "Autovalor 17\n",
      "Paré en la iteración 299\n",
      "Autovalor 18\n",
      "Paré en la iteración 127\n",
      "Autovalor 19\n",
      "Paré en la iteración 211\n",
      "Autovalor 20\n",
      "Paré en la iteración 171\n",
      "Autovalor 21\n",
      "Paré en la iteración 196\n",
      "Autovalor 22\n",
      "Paré en la iteración 198\n",
      "Autovalor 23\n",
      "Paré en la iteración 209\n",
      "Autovalor 24\n",
      "Paré en la iteración 523\n",
      "Autovalor 25\n",
      "Paré en la iteración 262\n",
      "Autovalor 26\n",
      "Paré en la iteración 150\n",
      "Autovalor 27\n",
      "Paré en la iteración 346\n",
      "Autovalor 28\n",
      "Paré en la iteración 394\n",
      "Autovalor 29\n",
      "Paré en la iteración 204\n",
      "Autovalor 30\n",
      "Paré en la iteración 353\n",
      "Autovalor 31\n",
      "Paré en la iteración 381\n",
      "Autovalor 32\n",
      "Paré en la iteración 265\n",
      "Autovalor 33\n",
      "Paré en la iteración 162\n",
      "Autovalor 34\n",
      "Paré en la iteración 195\n",
      "Autovalor 35\n",
      "Paré en la iteración 243\n",
      "Autovalor 36\n",
      "Paré en la iteración 290\n",
      "Autovalor 37\n",
      "Paré en la iteración 192\n",
      "Autovalor 38\n",
      "Paré en la iteración 256\n",
      "Autovalor 39\n",
      "Paré en la iteración 171\n",
      "Autovalor 40\n",
      "Paré en la iteración 389\n",
      "Autovalor 41\n",
      "Paré en la iteración 281\n",
      "Autovalor 42\n",
      "Paré en la iteración 320\n",
      "Autovalor 43\n",
      "Paré en la iteración 461\n",
      "Autovalor 44\n",
      "Paré en la iteración 274\n",
      "Autovalor 45\n",
      "Paré en la iteración 151\n",
      "Autovalor 46\n",
      "Paré en la iteración 252\n",
      "Autovalor 47\n",
      "Paré en la iteración 310\n",
      "Autovalor 48\n",
      "Paré en la iteración 309\n",
      "Autovalor 49\n",
      "Paré en la iteración 200\n",
      "Autovalor 50\n",
      "Paré en la iteración 315\n"
     ]
    }
   ],
   "source": [
    "#@title\n",
    "#time .... 3 mins\n",
    "w, V = eigen(cov_matrix, num=50, niter=1000, eps=1e-6)"
   ]
  },
  {
   "cell_type": "markdown",
   "metadata": {
    "id": "EHwsJUibx-64"
   },
   "source": [
    "A ver los autovalores..."
   ]
  },
  {
   "cell_type": "code",
   "execution_count": 29,
   "metadata": {
    "colab": {
     "base_uri": "https://localhost:8080/",
     "height": 296
    },
    "id": "gvsfaDkDP7cy",
    "outputId": "f5a8e348-d26f-469d-a09d-12c5dfedec4c"
   },
   "outputs": [
    {
     "data": {
      "text/plain": [
       "Text(0, 0.5, 'lambda')"
      ]
     },
     "execution_count": 29,
     "metadata": {},
     "output_type": "execute_result"
    }
   ],
   "source": [
    "#@title\n",
    "import matplotlib.pyplot as plt\n",
    "\n",
    "plt.plot(w)\n",
    "plt.xlabel(\"# lambda\")\n",
    "plt.ylabel(\"lambda\")"
   ]
  },
  {
   "cell_type": "markdown",
   "metadata": {
    "id": "Y-Uz7baIP80E"
   },
   "source": [
    "## Recordando cambios de base y otros yuyos\n",
    "\n",
    "Sup $M_X$ es la matriz de la covarianza, \n",
    "\n",
    "$$ M_X = \\frac{X^T X}{n-1} $$\n",
    "\n",
    "Si $B = \\{v_1, \\ldots , v_n\\}$ es la base ortogonal de autovectores de $M_X$ entonces la matriz cambio de base de $B$ a la base canónica ($E$) se escribe como la matriz cuyas columnas son los respectivos vectores\n",
    "\n",
    "$$C_{B, E} = V = \\begin{bmatrix}\n",
    "        &     & \\ldots &     \\\\\n",
    "    v_1 & v_2 & \\ldots & v_n \\\\\n",
    "        &     & \\ldots &     \\\\\n",
    "\\end{bmatrix}\n",
    "$$\n",
    "\n",
    "\n",
    "La matriz inversa de ésta es la cambio de base de $E$ a $B$. Es decir $C_{E, B} = C_{B, E}^{-1}$. Como nuestra base es ortogonal, tenemos\n",
    "\n",
    "$$ C_{E, B} = C_{B, E}^T = V^T = \\begin{bmatrix}\n",
    "& & v_1   & &\\\\\n",
    "& & v_2   & &\\\\\n",
    "& &\\vdots & & \\\\\n",
    "& & v_n   & & \\\\\n",
    "\\end{bmatrix}\n",
    "$$\n",
    "\n",
    "Es decir, la matriz que consiste de apilar los vectores fila de la base $B$.\n",
    "\n",
    "\n",
    "### Cambiando de base nuestras instancias de entrenamiento\n",
    "\n",
    "Nuestras matrices $X \\in R^{n \\times m}$ con $n$ igual a la cantidad de instancias de entrenamiento, y $m$ la cantidad de variables\n",
    "\n",
    "Tenemos entonces\n",
    "\n",
    "$$ X = \\begin{bmatrix}\n",
    "& & x^{(1)}   & &\\\\\n",
    "& & x^{(2)}   & &\\\\\n",
    "& &\\vdots & & \\\\\n",
    "& & v_n   & & \\\\\n",
    "\\end{bmatrix}\n",
    "$$\n",
    "\n",
    "Si $x$ es una instancia de entrenamiento a la cual queremos cambiar de base, queremos hacer\n",
    "\n",
    "$$\\overline x = V^T x$$\n",
    "\n",
    "Luego, si queremos cambiar de base cada instancia, hacemos...\n",
    "\n",
    "$$ V^T X^T = V^T \\begin{bmatrix}\n",
    "        & &    & &\\\\\n",
    "x^{(1)}& x^{(2)} &\\ldots & x ^{(n-1)} & x ^{(n)} \\\\\n",
    "& & & & \\\\\n",
    "\\end{bmatrix} = \\begin{bmatrix}\n",
    "        & &    & &\\\\\n",
    "V^T x^{(1)}& V^T x^{(2)} &\\ldots & V^T x ^{(n-1)} & V^T x ^{(n)} \\\\\n",
    "& & & & \\\\\n",
    "\\end{bmatrix} = \\begin{bmatrix}\n",
    "        & &    & &\\\\\n",
    "\\overline{x^{(1)}}& \\overline{x^{(2)}} &\\ldots & \\overline{x^{(n-1)}} & \\overline{x^{(n)}} \\\\\n",
    "& & & & \\\\\n",
    "\\end{bmatrix}\n",
    "$$\n",
    "\n",
    "Ahora, lo que necesitamos es que cada instancia esté en una fila, así que trasponemos\n",
    "\n",
    "$$\n",
    "\\overline{X} = (V^T X^T)^T = X V\n",
    "$$"
   ]
  },
  {
   "cell_type": "markdown",
   "metadata": {
    "id": "5siYDx08KjN6"
   },
   "source": [
    "## Ejercicio:\n",
    "\n",
    "1. Implementar el cambio de base usando su implementación del método de la potencia\n",
    "2. Experimentar con distintos $\\alpha$. ¿Cómo afecta la accuracy de nuestro algoritmo? \n",
    "3. Para experimentar en casa: ¿Es más rápido?"
   ]
  },
  {
   "cell_type": "code",
   "execution_count": null,
   "metadata": {},
   "outputs": [],
   "source": [
    "# reeplazar por ejercicio peer question"
   ]
  },
  {
   "cell_type": "code",
   "execution_count": null,
   "metadata": {
    "colab": {
     "base_uri": "https://localhost:8080/"
    },
    "id": "JjnwHXZISV-P",
    "outputId": "c4978229-4bb5-4999-f13c-b3724258981d"
   },
   "outputs": [],
   "source": [
    "#@title\n",
    "X_pca_train = X_train @ V\n",
    "X_pca_test = X_test @ V\n",
    "\n",
    "X_pca_train.shape"
   ]
  },
  {
   "cell_type": "markdown",
   "metadata": {
    "id": "a49NYmvxK1yn"
   },
   "source": [
    "Entrenar ahora el clasificador usando estas nuevas instancias[]"
   ]
  },
  {
   "cell_type": "code",
   "execution_count": null,
   "metadata": {
    "colab": {
     "base_uri": "https://localhost:8080/"
    },
    "id": "8Onn-oAeuyGt",
    "outputId": "68933360-ee32-4aaa-85cd-1a7315f7d1a3"
   },
   "outputs": [],
   "source": [
    "#@title\n",
    "from sklearn.neighbors import KNeighborsClassifier\n",
    "\n",
    "clf = KNeighborsClassifier(n_neighbors=25)\n",
    "clf.fit(X_pca_train, y_train)\n",
    "# sólo seteamos 25 vecinos, resto default (que se ve en el output)\n",
    "# ‘uniform’ : uniform weights. All points in each neighborhood are weighted equally.\n",
    "# 'algorithm' Algorithm used to compute the nearest neighbors.\n",
    "# 'leaf_size'  - Leaf size passed to BallTree or KDTree (posibles algos)\n",
    "#  metric -- > métrica a usar\n",
    "# Power parameter for the Minkowski metric. \n",
    "# When p = 1, this is equivalent to using manhattan_distance (l1), and euclidean_distance (l2) for p = 2.\n",
    "# n_jobs The number of parallel jobs to run for neighbors search."
   ]
  },
  {
   "cell_type": "code",
   "execution_count": null,
   "metadata": {
    "colab": {
     "base_uri": "https://localhost:8080/"
    },
    "id": "6LRgcyWzSgRZ",
    "outputId": "67a3de8a-96ac-4a05-9268-dbbe929a9765"
   },
   "outputs": [],
   "source": [
    "#@title\n",
    "%%time\n",
    "from sklearn.metrics import accuracy_score\n",
    "y_pred = clf.predict(X_pca_test)\n",
    "### Accuracy:\n",
    "### \"lo bueno\" (true positive + true negative) / \"todo\" (true positive + true negative + false positive + false negative)\n",
    "acc = accuracy_score(y_test, y_pred)\n",
    "print(\"Accuracy: {}\".format(acc))"
   ]
  },
  {
   "cell_type": "code",
   "execution_count": null,
   "metadata": {
    "colab": {
     "base_uri": "https://localhost:8080/",
     "height": 49,
     "referenced_widgets": [
      "366aeb02111b4c83a8fe483fa77120c6",
      "6700d4bfbb8e43a280f90617ecc15ae2",
      "dd8101c019a841e78db691f6047bc924",
      "a71d4da6cb754ebe9017fee7c195583b",
      "11eba4c8e8ba4eed8e99e7c14bab578f",
      "ccad1755ecbb47ce9038f1ca4a43096d",
      "2bca45cb0b7f41acb33c167bac81c8ac",
      "07c6962a0a8547af84d4a2dd7891d777",
      "a7e1fa38f29b49a0be7f274b0836e737",
      "4795bf19f21c448d84543f3584990e5f",
      "b69e5477de1b487b96d13af5b3033cd9"
     ]
    },
    "id": "Iyw07yDyMYHr",
    "outputId": "d0eacf30-5d7d-47ec-aad6-4a4f3a61aa76"
   },
   "outputs": [],
   "source": [
    "#@title\n",
    "from tqdm.auto import tqdm\n",
    "alphas = range(2, 50, 2)\n",
    "results = []\n",
    "# Hacemos varias corridas recortando los V de PCA.\n",
    "# tqdm para tener el progress meter.\n",
    "for alpha in tqdm(alphas):\n",
    "    #print(alpha)\n",
    "    X_pca_train = X_train @ V[:, :alpha]\n",
    "    X_pca_test = X_test @ V[:, :alpha]\n",
    "\n",
    "    clf = KNeighborsClassifier(n_neighbors=25)\n",
    "    clf.fit(X_pca_train, y_train)\n",
    "\n",
    "    y_pred = clf.predict(X_pca_test)\n",
    "    acc = accuracy_score(y_test, y_pred)\n",
    "    results.append(acc)"
   ]
  },
  {
   "cell_type": "code",
   "execution_count": null,
   "metadata": {
    "colab": {
     "base_uri": "https://localhost:8080/",
     "height": 296
    },
    "id": "VjJkYuBLibNg",
    "outputId": "8a3189e9-b22f-4e44-9582-65c9163ea582"
   },
   "outputs": [],
   "source": [
    "#@title\n",
    "import matplotlib.pyplot as plt\n",
    "\n",
    "plt.plot(alphas, results, \"o-\")\n",
    "plt.xlabel(\"# PCs\")\n",
    "plt.ylabel(\"Accuracy\")\n",
    "## Comparar con la solución sin PCA."
   ]
  },
  {
   "cell_type": "code",
   "execution_count": null,
   "metadata": {
    "id": "I0Ot0cFvirbR"
   },
   "outputs": [],
   "source": [
    "#@title\n"
   ]
  }
 ],
 "metadata": {
  "colab": {
   "collapsed_sections": [],
   "name": "PCA+KNN.ipynb",
   "provenance": []
  },
  "kernelspec": {
   "display_name": "Python 3",
   "language": "python",
   "name": "python3"
  },
  "language_info": {
   "codemirror_mode": {
    "name": "ipython",
    "version": 3
   },
   "file_extension": ".py",
   "mimetype": "text/x-python",
   "name": "python",
   "nbconvert_exporter": "python",
   "pygments_lexer": "ipython3",
   "version": "3.7.3"
  },
  "widgets": {
   "application/vnd.jupyter.widget-state+json": {
    "07c6962a0a8547af84d4a2dd7891d777": {
     "model_module": "@jupyter-widgets/controls",
     "model_module_version": "1.5.0",
     "model_name": "ProgressStyleModel",
     "state": {
      "_model_module": "@jupyter-widgets/controls",
      "_model_module_version": "1.5.0",
      "_model_name": "ProgressStyleModel",
      "_view_count": null,
      "_view_module": "@jupyter-widgets/base",
      "_view_module_version": "1.2.0",
      "_view_name": "StyleView",
      "bar_color": null,
      "description_width": ""
     }
    },
    "11eba4c8e8ba4eed8e99e7c14bab578f": {
     "model_module": "@jupyter-widgets/controls",
     "model_module_version": "1.5.0",
     "model_name": "HTMLModel",
     "state": {
      "_dom_classes": [],
      "_model_module": "@jupyter-widgets/controls",
      "_model_module_version": "1.5.0",
      "_model_name": "HTMLModel",
      "_view_count": null,
      "_view_module": "@jupyter-widgets/controls",
      "_view_module_version": "1.5.0",
      "_view_name": "HTMLView",
      "description": "",
      "description_tooltip": null,
      "layout": "IPY_MODEL_b69e5477de1b487b96d13af5b3033cd9",
      "placeholder": "​",
      "style": "IPY_MODEL_4795bf19f21c448d84543f3584990e5f",
      "value": " 24/24 [00:39&lt;00:00,  2.88s/it]"
     }
    },
    "2bca45cb0b7f41acb33c167bac81c8ac": {
     "model_module": "@jupyter-widgets/base",
     "model_module_version": "1.2.0",
     "model_name": "LayoutModel",
     "state": {
      "_model_module": "@jupyter-widgets/base",
      "_model_module_version": "1.2.0",
      "_model_name": "LayoutModel",
      "_view_count": null,
      "_view_module": "@jupyter-widgets/base",
      "_view_module_version": "1.2.0",
      "_view_name": "LayoutView",
      "align_content": null,
      "align_items": null,
      "align_self": null,
      "border": null,
      "bottom": null,
      "display": null,
      "flex": null,
      "flex_flow": null,
      "grid_area": null,
      "grid_auto_columns": null,
      "grid_auto_flow": null,
      "grid_auto_rows": null,
      "grid_column": null,
      "grid_gap": null,
      "grid_row": null,
      "grid_template_areas": null,
      "grid_template_columns": null,
      "grid_template_rows": null,
      "height": null,
      "justify_content": null,
      "justify_items": null,
      "left": null,
      "margin": null,
      "max_height": null,
      "max_width": null,
      "min_height": null,
      "min_width": null,
      "object_fit": null,
      "object_position": null,
      "order": null,
      "overflow": null,
      "overflow_x": null,
      "overflow_y": null,
      "padding": null,
      "right": null,
      "top": null,
      "visibility": null,
      "width": null
     }
    },
    "366aeb02111b4c83a8fe483fa77120c6": {
     "model_module": "@jupyter-widgets/controls",
     "model_module_version": "1.5.0",
     "model_name": "HBoxModel",
     "state": {
      "_dom_classes": [],
      "_model_module": "@jupyter-widgets/controls",
      "_model_module_version": "1.5.0",
      "_model_name": "HBoxModel",
      "_view_count": null,
      "_view_module": "@jupyter-widgets/controls",
      "_view_module_version": "1.5.0",
      "_view_name": "HBoxView",
      "box_style": "",
      "children": [
       "IPY_MODEL_dd8101c019a841e78db691f6047bc924",
       "IPY_MODEL_a71d4da6cb754ebe9017fee7c195583b",
       "IPY_MODEL_11eba4c8e8ba4eed8e99e7c14bab578f"
      ],
      "layout": "IPY_MODEL_6700d4bfbb8e43a280f90617ecc15ae2"
     }
    },
    "4795bf19f21c448d84543f3584990e5f": {
     "model_module": "@jupyter-widgets/controls",
     "model_module_version": "1.5.0",
     "model_name": "DescriptionStyleModel",
     "state": {
      "_model_module": "@jupyter-widgets/controls",
      "_model_module_version": "1.5.0",
      "_model_name": "DescriptionStyleModel",
      "_view_count": null,
      "_view_module": "@jupyter-widgets/base",
      "_view_module_version": "1.2.0",
      "_view_name": "StyleView",
      "description_width": ""
     }
    },
    "6700d4bfbb8e43a280f90617ecc15ae2": {
     "model_module": "@jupyter-widgets/base",
     "model_module_version": "1.2.0",
     "model_name": "LayoutModel",
     "state": {
      "_model_module": "@jupyter-widgets/base",
      "_model_module_version": "1.2.0",
      "_model_name": "LayoutModel",
      "_view_count": null,
      "_view_module": "@jupyter-widgets/base",
      "_view_module_version": "1.2.0",
      "_view_name": "LayoutView",
      "align_content": null,
      "align_items": null,
      "align_self": null,
      "border": null,
      "bottom": null,
      "display": null,
      "flex": null,
      "flex_flow": null,
      "grid_area": null,
      "grid_auto_columns": null,
      "grid_auto_flow": null,
      "grid_auto_rows": null,
      "grid_column": null,
      "grid_gap": null,
      "grid_row": null,
      "grid_template_areas": null,
      "grid_template_columns": null,
      "grid_template_rows": null,
      "height": null,
      "justify_content": null,
      "justify_items": null,
      "left": null,
      "margin": null,
      "max_height": null,
      "max_width": null,
      "min_height": null,
      "min_width": null,
      "object_fit": null,
      "object_position": null,
      "order": null,
      "overflow": null,
      "overflow_x": null,
      "overflow_y": null,
      "padding": null,
      "right": null,
      "top": null,
      "visibility": null,
      "width": null
     }
    },
    "a71d4da6cb754ebe9017fee7c195583b": {
     "model_module": "@jupyter-widgets/controls",
     "model_module_version": "1.5.0",
     "model_name": "FloatProgressModel",
     "state": {
      "_dom_classes": [],
      "_model_module": "@jupyter-widgets/controls",
      "_model_module_version": "1.5.0",
      "_model_name": "FloatProgressModel",
      "_view_count": null,
      "_view_module": "@jupyter-widgets/controls",
      "_view_module_version": "1.5.0",
      "_view_name": "ProgressView",
      "bar_style": "success",
      "description": "",
      "description_tooltip": null,
      "layout": "IPY_MODEL_a7e1fa38f29b49a0be7f274b0836e737",
      "max": 24,
      "min": 0,
      "orientation": "horizontal",
      "style": "IPY_MODEL_07c6962a0a8547af84d4a2dd7891d777",
      "value": 24
     }
    },
    "a7e1fa38f29b49a0be7f274b0836e737": {
     "model_module": "@jupyter-widgets/base",
     "model_module_version": "1.2.0",
     "model_name": "LayoutModel",
     "state": {
      "_model_module": "@jupyter-widgets/base",
      "_model_module_version": "1.2.0",
      "_model_name": "LayoutModel",
      "_view_count": null,
      "_view_module": "@jupyter-widgets/base",
      "_view_module_version": "1.2.0",
      "_view_name": "LayoutView",
      "align_content": null,
      "align_items": null,
      "align_self": null,
      "border": null,
      "bottom": null,
      "display": null,
      "flex": null,
      "flex_flow": null,
      "grid_area": null,
      "grid_auto_columns": null,
      "grid_auto_flow": null,
      "grid_auto_rows": null,
      "grid_column": null,
      "grid_gap": null,
      "grid_row": null,
      "grid_template_areas": null,
      "grid_template_columns": null,
      "grid_template_rows": null,
      "height": null,
      "justify_content": null,
      "justify_items": null,
      "left": null,
      "margin": null,
      "max_height": null,
      "max_width": null,
      "min_height": null,
      "min_width": null,
      "object_fit": null,
      "object_position": null,
      "order": null,
      "overflow": null,
      "overflow_x": null,
      "overflow_y": null,
      "padding": null,
      "right": null,
      "top": null,
      "visibility": null,
      "width": null
     }
    },
    "b69e5477de1b487b96d13af5b3033cd9": {
     "model_module": "@jupyter-widgets/base",
     "model_module_version": "1.2.0",
     "model_name": "LayoutModel",
     "state": {
      "_model_module": "@jupyter-widgets/base",
      "_model_module_version": "1.2.0",
      "_model_name": "LayoutModel",
      "_view_count": null,
      "_view_module": "@jupyter-widgets/base",
      "_view_module_version": "1.2.0",
      "_view_name": "LayoutView",
      "align_content": null,
      "align_items": null,
      "align_self": null,
      "border": null,
      "bottom": null,
      "display": null,
      "flex": null,
      "flex_flow": null,
      "grid_area": null,
      "grid_auto_columns": null,
      "grid_auto_flow": null,
      "grid_auto_rows": null,
      "grid_column": null,
      "grid_gap": null,
      "grid_row": null,
      "grid_template_areas": null,
      "grid_template_columns": null,
      "grid_template_rows": null,
      "height": null,
      "justify_content": null,
      "justify_items": null,
      "left": null,
      "margin": null,
      "max_height": null,
      "max_width": null,
      "min_height": null,
      "min_width": null,
      "object_fit": null,
      "object_position": null,
      "order": null,
      "overflow": null,
      "overflow_x": null,
      "overflow_y": null,
      "padding": null,
      "right": null,
      "top": null,
      "visibility": null,
      "width": null
     }
    },
    "ccad1755ecbb47ce9038f1ca4a43096d": {
     "model_module": "@jupyter-widgets/controls",
     "model_module_version": "1.5.0",
     "model_name": "DescriptionStyleModel",
     "state": {
      "_model_module": "@jupyter-widgets/controls",
      "_model_module_version": "1.5.0",
      "_model_name": "DescriptionStyleModel",
      "_view_count": null,
      "_view_module": "@jupyter-widgets/base",
      "_view_module_version": "1.2.0",
      "_view_name": "StyleView",
      "description_width": ""
     }
    },
    "dd8101c019a841e78db691f6047bc924": {
     "model_module": "@jupyter-widgets/controls",
     "model_module_version": "1.5.0",
     "model_name": "HTMLModel",
     "state": {
      "_dom_classes": [],
      "_model_module": "@jupyter-widgets/controls",
      "_model_module_version": "1.5.0",
      "_model_name": "HTMLModel",
      "_view_count": null,
      "_view_module": "@jupyter-widgets/controls",
      "_view_module_version": "1.5.0",
      "_view_name": "HTMLView",
      "description": "",
      "description_tooltip": null,
      "layout": "IPY_MODEL_2bca45cb0b7f41acb33c167bac81c8ac",
      "placeholder": "​",
      "style": "IPY_MODEL_ccad1755ecbb47ce9038f1ca4a43096d",
      "value": "100%"
     }
    }
   }
  }
 },
 "nbformat": 4,
 "nbformat_minor": 1
}

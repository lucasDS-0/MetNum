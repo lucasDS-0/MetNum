{
 "cells": [
  {
   "cell_type": "markdown",
   "metadata": {
    "id": "aCKND09zxavl"
   },
   "source": [
    "# Análisis de Sentimiento con KNN y PCA\n",
    "\n",
    "Vamos a usar el dataset de IMDB de [Maas et al(2011)](\n",
    "https://ai.stanford.edu/~amaas/data/sentiment/) \n"
   ]
  },
  {
   "cell_type": "code",
   "execution_count": null,
   "metadata": {
    "colab": {
     "base_uri": "https://localhost:8080/"
    },
    "id": "XYmw-hoew6ev",
    "outputId": "94795f15-9b98-4207-c3be-837bd8863a26"
   },
   "outputs": [],
   "source": [
    "!wget https://github.com/finiteautomata/imdb-dataset/raw/master/imdb_dataset.csv.zip\n",
    "!unzip imdb_dataset.csv.zip"
   ]
  },
  {
   "cell_type": "code",
   "execution_count": 1,
   "metadata": {
    "colab": {
     "base_uri": "https://localhost:8080/"
    },
    "id": "x77gb_NyxYho",
    "outputId": "2e313d3f-7b1a-48cd-e72b-f1c4ff9db237"
   },
   "outputs": [
    {
     "name": "stdout",
     "output_type": "stream",
     "text": [
      "Cantidad de documentos: 50000\n"
     ]
    }
   ],
   "source": [
    "import pandas as pd \n",
    "\n",
    "df = pd.read_csv(\"IMDB Dataset.csv\")\n",
    "\n",
    "\n",
    "print(\"Cantidad de documentos: {}\".format(df.shape[0]))"
   ]
  },
  {
   "cell_type": "code",
   "execution_count": 2,
   "metadata": {
    "colab": {
     "base_uri": "https://localhost:8080/",
     "height": 512
    },
    "id": "YubaV3bd2Jd8",
    "outputId": "52b5d704-6e22-423d-e574-4cea8ac33f1d"
   },
   "outputs": [
    {
     "data": {
      "text/html": [
       "<div>\n",
       "<style scoped>\n",
       "    .dataframe tbody tr th:only-of-type {\n",
       "        vertical-align: middle;\n",
       "    }\n",
       "\n",
       "    .dataframe tbody tr th {\n",
       "        vertical-align: top;\n",
       "    }\n",
       "\n",
       "    .dataframe thead th {\n",
       "        text-align: right;\n",
       "    }\n",
       "</style>\n",
       "<table border=\"1\" class=\"dataframe\">\n",
       "  <thead>\n",
       "    <tr style=\"text-align: right;\">\n",
       "      <th></th>\n",
       "      <th>review</th>\n",
       "      <th>sentiment</th>\n",
       "    </tr>\n",
       "  </thead>\n",
       "  <tbody>\n",
       "    <tr>\n",
       "      <th>0</th>\n",
       "      <td>One of the other reviewers has mentioned that after watching just 1 Oz episode you'll be hooked. They are right, as this is exactly what happened with me.&lt;br /&gt;&lt;br /&gt;The first thing that struck me...</td>\n",
       "      <td>positive</td>\n",
       "    </tr>\n",
       "    <tr>\n",
       "      <th>1</th>\n",
       "      <td>A wonderful little production. &lt;br /&gt;&lt;br /&gt;The filming technique is very unassuming- very old-time-BBC fashion and gives a comforting, and sometimes discomforting, sense of realism to the entire p...</td>\n",
       "      <td>positive</td>\n",
       "    </tr>\n",
       "    <tr>\n",
       "      <th>2</th>\n",
       "      <td>I thought this was a wonderful way to spend time on a too hot summer weekend, sitting in the air conditioned theater and watching a light-hearted comedy. The plot is simplistic, but the dialogue i...</td>\n",
       "      <td>positive</td>\n",
       "    </tr>\n",
       "    <tr>\n",
       "      <th>3</th>\n",
       "      <td>Basically there's a family where a little boy (Jake) thinks there's a zombie in his closet &amp; his parents are fighting all the time.&lt;br /&gt;&lt;br /&gt;This movie is slower than a soap opera... and suddenl...</td>\n",
       "      <td>negative</td>\n",
       "    </tr>\n",
       "    <tr>\n",
       "      <th>4</th>\n",
       "      <td>Petter Mattei's \"Love in the Time of Money\" is a visually stunning film to watch. Mr. Mattei offers us a vivid portrait about human relations. This is a movie that seems to be telling us what mone...</td>\n",
       "      <td>positive</td>\n",
       "    </tr>\n",
       "    <tr>\n",
       "      <th>5</th>\n",
       "      <td>Probably my all-time favorite movie, a story of selflessness, sacrifice and dedication to a noble cause, but it's not preachy or boring. It just never gets old, despite my having seen it some 15 o...</td>\n",
       "      <td>positive</td>\n",
       "    </tr>\n",
       "    <tr>\n",
       "      <th>6</th>\n",
       "      <td>I sure would like to see a resurrection of a up dated Seahunt series with the tech they have today it would bring back the kid excitement in me.I grew up on black and white TV and Seahunt with Gun...</td>\n",
       "      <td>positive</td>\n",
       "    </tr>\n",
       "    <tr>\n",
       "      <th>7</th>\n",
       "      <td>This show was an amazing, fresh &amp; innovative idea in the 70's when it first aired. The first 7 or 8 years were brilliant, but things dropped off after that. By 1990, the show was not really funny ...</td>\n",
       "      <td>negative</td>\n",
       "    </tr>\n",
       "    <tr>\n",
       "      <th>8</th>\n",
       "      <td>Encouraged by the positive comments about this film on here I was looking forward to watching this film. Bad mistake. I've seen 950+ films and this is truly one of the worst of them - it's awful i...</td>\n",
       "      <td>negative</td>\n",
       "    </tr>\n",
       "    <tr>\n",
       "      <th>9</th>\n",
       "      <td>If you like original gut wrenching laughter you will like this movie. If you are young or old then you will love this movie, hell even my mom liked it.&lt;br /&gt;&lt;br /&gt;Great Camp!!!</td>\n",
       "      <td>positive</td>\n",
       "    </tr>\n",
       "  </tbody>\n",
       "</table>\n",
       "</div>"
      ],
      "text/plain": [
       "                                                                                                                                                                                                    review  \\\n",
       "0  One of the other reviewers has mentioned that after watching just 1 Oz episode you'll be hooked. They are right, as this is exactly what happened with me.<br /><br />The first thing that struck me...   \n",
       "1  A wonderful little production. <br /><br />The filming technique is very unassuming- very old-time-BBC fashion and gives a comforting, and sometimes discomforting, sense of realism to the entire p...   \n",
       "2  I thought this was a wonderful way to spend time on a too hot summer weekend, sitting in the air conditioned theater and watching a light-hearted comedy. The plot is simplistic, but the dialogue i...   \n",
       "3  Basically there's a family where a little boy (Jake) thinks there's a zombie in his closet & his parents are fighting all the time.<br /><br />This movie is slower than a soap opera... and suddenl...   \n",
       "4  Petter Mattei's \"Love in the Time of Money\" is a visually stunning film to watch. Mr. Mattei offers us a vivid portrait about human relations. This is a movie that seems to be telling us what mone...   \n",
       "5  Probably my all-time favorite movie, a story of selflessness, sacrifice and dedication to a noble cause, but it's not preachy or boring. It just never gets old, despite my having seen it some 15 o...   \n",
       "6  I sure would like to see a resurrection of a up dated Seahunt series with the tech they have today it would bring back the kid excitement in me.I grew up on black and white TV and Seahunt with Gun...   \n",
       "7  This show was an amazing, fresh & innovative idea in the 70's when it first aired. The first 7 or 8 years were brilliant, but things dropped off after that. By 1990, the show was not really funny ...   \n",
       "8  Encouraged by the positive comments about this film on here I was looking forward to watching this film. Bad mistake. I've seen 950+ films and this is truly one of the worst of them - it's awful i...   \n",
       "9                         If you like original gut wrenching laughter you will like this movie. If you are young or old then you will love this movie, hell even my mom liked it.<br /><br />Great Camp!!!   \n",
       "\n",
       "  sentiment  \n",
       "0  positive  \n",
       "1  positive  \n",
       "2  positive  \n",
       "3  negative  \n",
       "4  positive  \n",
       "5  positive  \n",
       "6  positive  \n",
       "7  negative  \n",
       "8  negative  \n",
       "9  positive  "
      ]
     },
     "execution_count": 2,
     "metadata": {},
     "output_type": "execute_result"
    }
   ],
   "source": [
    "pd.options.display.max_colwidth = 200\n",
    "\n",
    "df[:10]"
   ]
  },
  {
   "cell_type": "markdown",
   "metadata": {
    "id": "zdpK2UXK2tZX"
   },
   "source": [
    "Lo mezclamos para que no esté ordenado"
   ]
  },
  {
   "cell_type": "code",
   "execution_count": 3,
   "metadata": {
    "colab": {
     "base_uri": "https://localhost:8080/",
     "height": 529
    },
    "id": "J7CNSqdF221f",
    "outputId": "44b11023-a651-4e93-b127-4446009d9482"
   },
   "outputs": [
    {
     "data": {
      "text/html": [
       "<div>\n",
       "<style scoped>\n",
       "    .dataframe tbody tr th:only-of-type {\n",
       "        vertical-align: middle;\n",
       "    }\n",
       "\n",
       "    .dataframe tbody tr th {\n",
       "        vertical-align: top;\n",
       "    }\n",
       "\n",
       "    .dataframe thead th {\n",
       "        text-align: right;\n",
       "    }\n",
       "</style>\n",
       "<table border=\"1\" class=\"dataframe\">\n",
       "  <thead>\n",
       "    <tr style=\"text-align: right;\">\n",
       "      <th></th>\n",
       "      <th>review</th>\n",
       "      <th>sentiment</th>\n",
       "    </tr>\n",
       "  </thead>\n",
       "  <tbody>\n",
       "    <tr>\n",
       "      <th>24397</th>\n",
       "      <td>Admittedly Alex has become a little podgey, but they are still (for me) the greatest rock trio, ever. I wholeheartedly recommend this DVD to any fan.&lt;br /&gt;&lt;br /&gt;I was very disappointed that they c...</td>\n",
       "      <td>positive</td>\n",
       "    </tr>\n",
       "    <tr>\n",
       "      <th>39273</th>\n",
       "      <td>An absolutely brilliant film! Jiri Trnka, the master of puppet animation, confronts totalitarianism in this, his final, film. It would be banned by the Communist Czechoslovakian government (at the...</td>\n",
       "      <td>positive</td>\n",
       "    </tr>\n",
       "    <tr>\n",
       "      <th>6546</th>\n",
       "      <td>All the boys seem to be sexually aroused by Mandy Lane. All the girls seem to be jealous of Mandy Lane. But, nothing seems to become of it, and this viewer wonders why? Mandy is beautiful and a ma...</td>\n",
       "      <td>negative</td>\n",
       "    </tr>\n",
       "    <tr>\n",
       "      <th>13504</th>\n",
       "      <td>Superhero movies pretty much always suck, and this is no exception. Its only redeeming quality is the fact the movie COULD have been even worse. I would put 'Batman &amp; Robin' and 'Steel' above this...</td>\n",
       "      <td>negative</td>\n",
       "    </tr>\n",
       "    <tr>\n",
       "      <th>49765</th>\n",
       "      <td>The genre of suspense films really takes a dive in this one. The big problem is IMPLAUSABILITY. I realize that you need to create difficult situations which would cause suspense and the tense feel...</td>\n",
       "      <td>negative</td>\n",
       "    </tr>\n",
       "    <tr>\n",
       "      <th>31361</th>\n",
       "      <td>SPOILERS AHEAD&lt;br /&gt;&lt;br /&gt;This is one of the worst movies ever made - it's that simple. There is not one redeeming quality about this movie. The first 10 minutes are quite tricky - they actually l...</td>\n",
       "      <td>negative</td>\n",
       "    </tr>\n",
       "    <tr>\n",
       "      <th>27741</th>\n",
       "      <td>This Batman movie isn't quite as good as Batman mask of The Phantasm and Batman and Mr. Freeze subzero But it is still a good installment to the Batman cartoons I say it is equally good as Batman ...</td>\n",
       "      <td>positive</td>\n",
       "    </tr>\n",
       "    <tr>\n",
       "      <th>47758</th>\n",
       "      <td>As you all may know, JIGSAW did not make its way to Blackbuster because of a member of Full Moon's own staff, Devin Hamilton. Devin is the one who sells to all of the video chains. He recently rel...</td>\n",
       "      <td>negative</td>\n",
       "    </tr>\n",
       "    <tr>\n",
       "      <th>22393</th>\n",
       "      <td>This is the prime example of low budget, winning over what would be a good story line. Let's bring back Samaire Armstrong (having seen her work on the O.C. I know she can do better), then find a b...</td>\n",
       "      <td>negative</td>\n",
       "    </tr>\n",
       "    <tr>\n",
       "      <th>18289</th>\n",
       "      <td>\"Eagle's Wing\" is a pleasant surprise of a movie, &amp; keeps the viewer interested. I didn't know anything about it being made by the British until I read the other viewer comments. I can understand ...</td>\n",
       "      <td>positive</td>\n",
       "    </tr>\n",
       "  </tbody>\n",
       "</table>\n",
       "</div>"
      ],
      "text/plain": [
       "                                                                                                                                                                                                        review  \\\n",
       "24397  Admittedly Alex has become a little podgey, but they are still (for me) the greatest rock trio, ever. I wholeheartedly recommend this DVD to any fan.<br /><br />I was very disappointed that they c...   \n",
       "39273  An absolutely brilliant film! Jiri Trnka, the master of puppet animation, confronts totalitarianism in this, his final, film. It would be banned by the Communist Czechoslovakian government (at the...   \n",
       "6546   All the boys seem to be sexually aroused by Mandy Lane. All the girls seem to be jealous of Mandy Lane. But, nothing seems to become of it, and this viewer wonders why? Mandy is beautiful and a ma...   \n",
       "13504  Superhero movies pretty much always suck, and this is no exception. Its only redeeming quality is the fact the movie COULD have been even worse. I would put 'Batman & Robin' and 'Steel' above this...   \n",
       "49765  The genre of suspense films really takes a dive in this one. The big problem is IMPLAUSABILITY. I realize that you need to create difficult situations which would cause suspense and the tense feel...   \n",
       "31361  SPOILERS AHEAD<br /><br />This is one of the worst movies ever made - it's that simple. There is not one redeeming quality about this movie. The first 10 minutes are quite tricky - they actually l...   \n",
       "27741  This Batman movie isn't quite as good as Batman mask of The Phantasm and Batman and Mr. Freeze subzero But it is still a good installment to the Batman cartoons I say it is equally good as Batman ...   \n",
       "47758  As you all may know, JIGSAW did not make its way to Blackbuster because of a member of Full Moon's own staff, Devin Hamilton. Devin is the one who sells to all of the video chains. He recently rel...   \n",
       "22393  This is the prime example of low budget, winning over what would be a good story line. Let's bring back Samaire Armstrong (having seen her work on the O.C. I know she can do better), then find a b...   \n",
       "18289  \"Eagle's Wing\" is a pleasant surprise of a movie, & keeps the viewer interested. I didn't know anything about it being made by the British until I read the other viewer comments. I can understand ...   \n",
       "\n",
       "      sentiment  \n",
       "24397  positive  \n",
       "39273  positive  \n",
       "6546   negative  \n",
       "13504  negative  \n",
       "49765  negative  \n",
       "31361  negative  \n",
       "27741  positive  \n",
       "47758  negative  \n",
       "22393  negative  \n",
       "18289  positive  "
      ]
     },
     "execution_count": 3,
     "metadata": {},
     "output_type": "execute_result"
    }
   ],
   "source": [
    "# Esto pide un sample, le pedimos una muestra de todo el df\n",
    "\n",
    "df = df.sample(frac=1, random_state=2020)\n",
    "\n",
    "df[:10]"
   ]
  },
  {
   "cell_type": "markdown",
   "metadata": {
    "id": "jz3AcySp25VD"
   },
   "source": [
    "## Train y Test\n",
    "\n",
    "Nos vamos a quedar con una fracción de los datos para train y otra para test"
   ]
  },
  {
   "cell_type": "code",
   "execution_count": 4,
   "metadata": {
    "colab": {
     "base_uri": "https://localhost:8080/"
    },
    "id": "JhJYdWnb3Lic",
    "outputId": "60e08805-0c97-4638-c81a-bddac2f91331"
   },
   "outputs": [
    {
     "name": "stdout",
     "output_type": "stream",
     "text": [
      "Class balance : 0.5007 pos 0.4993 neg\n"
     ]
    }
   ],
   "source": [
    "import sklearn\n",
    "\n",
    "df_train = df[:10000]\n",
    "df_test = df[10000:13000]\n",
    "\n",
    "text_train, text_test = df_train[\"review\"], df_test[\"review\"]\n",
    "label_train, label_test = df_train[\"sentiment\"], df_test[\"sentiment\"]\n",
    "\n",
    "print(\"Class balance : {} pos {} neg\".format(\n",
    "    (label_train == 'positive').sum() / label_train.shape[0], \n",
    "    (label_train == 'negative').sum() / label_train.shape[0]\n",
    "))"
   ]
  },
  {
   "cell_type": "code",
   "execution_count": 5,
   "metadata": {
    "colab": {
     "base_uri": "https://localhost:8080/"
    },
    "id": "rWARKpyu9WDz",
    "outputId": "dbfa7619-9499-48a4-959b-42d739643504"
   },
   "outputs": [
    {
     "data": {
      "text/plain": [
       "0.49866666666666665"
      ]
     },
     "execution_count": 5,
     "metadata": {},
     "output_type": "execute_result"
    }
   ],
   "source": [
    "(label_test == \"positive\").sum() / label_test.shape[0]"
   ]
  },
  {
   "cell_type": "markdown",
   "metadata": {
    "id": "PQaM3U6XB1fz"
   },
   "source": [
    "Está más o menos parejo. Usemos accuracy (#cantidad de aciertos / #cantidad de ensayos) como métrica"
   ]
  },
  {
   "cell_type": "markdown",
   "metadata": {
    "id": "0-Kfq3Lf4K-e"
   },
   "source": [
    "## Convertir a bag of words\n",
    "\n",
    "Veamos cómo funciona CountVectorizer\n",
    "\n",
    "La idea general es que CountVectorizer convierte un conjunto de texto en el modelo de bolsa de palabras (bag of words), donde cada texto se representa como un vector de $\\mathbb{R}^V$, donde $V$ es el vocabulario elegido."
   ]
  },
  {
   "cell_type": "code",
   "execution_count": 7,
   "metadata": {
    "id": "04SLlE4c4cz_"
   },
   "outputs": [],
   "source": [
    "from sklearn.feature_extraction.text import CountVectorizer\n",
    "\n",
    "textos = [\n",
    "    \"bolsa de palabras\",\n",
    "    \"bolsa es una palabra\",\n",
    "    \"palabra no es una bolsa\",\n",
    "    \"bolsa es una bolsa\",\n",
    "    \"bolsa es una bolsa y es una palabra\"\n",
    "]\n",
    "\n",
    "vect = CountVectorizer()"
   ]
  },
  {
   "cell_type": "markdown",
   "metadata": {
    "id": "nzmjNAYz9hA4"
   },
   "source": [
    "Lo entramos a estos textos"
   ]
  },
  {
   "cell_type": "code",
   "execution_count": 8,
   "metadata": {
    "colab": {
     "base_uri": "https://localhost:8080/"
    },
    "id": "eFrgWAf_4oId",
    "outputId": "e96dea9c-8c29-4ca2-b71f-4ab7b898f7d2"
   },
   "outputs": [
    {
     "data": {
      "text/plain": [
       "CountVectorizer()"
      ]
     },
     "execution_count": 8,
     "metadata": {},
     "output_type": "execute_result"
    }
   ],
   "source": [
    "vect.fit(textos)"
   ]
  },
  {
   "cell_type": "code",
   "execution_count": 9,
   "metadata": {
    "colab": {
     "base_uri": "https://localhost:8080/"
    },
    "id": "zkSsZNW04oo9",
    "outputId": "bad108c7-9809-48e9-b8ec-989fdaca0697"
   },
   "outputs": [
    {
     "data": {
      "text/plain": [
       "{'bolsa': 0, 'de': 1, 'palabras': 5, 'es': 2, 'una': 6, 'palabra': 4, 'no': 3}"
      ]
     },
     "execution_count": 9,
     "metadata": {},
     "output_type": "execute_result"
    }
   ],
   "source": [
    "vect.vocabulary_"
   ]
  },
  {
   "cell_type": "code",
   "execution_count": 10,
   "metadata": {
    "colab": {
     "base_uri": "https://localhost:8080/"
    },
    "id": "8decO5qu4rNd",
    "outputId": "84cb9aaa-0e64-4ae4-ee55-7f9c29052c01"
   },
   "outputs": [
    {
     "data": {
      "text/plain": [
       "<5x7 sparse matrix of type '<class 'numpy.int64'>'\n",
       "\twith 19 stored elements in Compressed Sparse Row format>"
      ]
     },
     "execution_count": 10,
     "metadata": {},
     "output_type": "execute_result"
    }
   ],
   "source": [
    "mat = vect.transform(textos)\n",
    "\n",
    "mat"
   ]
  },
  {
   "cell_type": "markdown",
   "metadata": {
    "id": "OJ8i3MLq4uUU"
   },
   "source": [
    "Es una matriz \"rala\" (sparse en inglés)"
   ]
  },
  {
   "cell_type": "code",
   "execution_count": 11,
   "metadata": {
    "colab": {
     "base_uri": "https://localhost:8080/",
     "height": 204
    },
    "id": "NKOkmVgE4zWz",
    "outputId": "ddf4087b-0dc6-4e8b-cc8a-e2914ad6d30d"
   },
   "outputs": [
    {
     "data": {
      "text/html": [
       "<div>\n",
       "<style scoped>\n",
       "    .dataframe tbody tr th:only-of-type {\n",
       "        vertical-align: middle;\n",
       "    }\n",
       "\n",
       "    .dataframe tbody tr th {\n",
       "        vertical-align: top;\n",
       "    }\n",
       "\n",
       "    .dataframe thead th {\n",
       "        text-align: right;\n",
       "    }\n",
       "</style>\n",
       "<table border=\"1\" class=\"dataframe\">\n",
       "  <thead>\n",
       "    <tr style=\"text-align: right;\">\n",
       "      <th></th>\n",
       "      <th>bolsa</th>\n",
       "      <th>de</th>\n",
       "      <th>es</th>\n",
       "      <th>no</th>\n",
       "      <th>palabra</th>\n",
       "      <th>palabras</th>\n",
       "      <th>una</th>\n",
       "      <th>texto</th>\n",
       "    </tr>\n",
       "  </thead>\n",
       "  <tbody>\n",
       "    <tr>\n",
       "      <th>0</th>\n",
       "      <td>1</td>\n",
       "      <td>1</td>\n",
       "      <td>0</td>\n",
       "      <td>0</td>\n",
       "      <td>0</td>\n",
       "      <td>1</td>\n",
       "      <td>0</td>\n",
       "      <td>bolsa de palabras</td>\n",
       "    </tr>\n",
       "    <tr>\n",
       "      <th>1</th>\n",
       "      <td>1</td>\n",
       "      <td>0</td>\n",
       "      <td>1</td>\n",
       "      <td>0</td>\n",
       "      <td>1</td>\n",
       "      <td>0</td>\n",
       "      <td>1</td>\n",
       "      <td>bolsa es una palabra</td>\n",
       "    </tr>\n",
       "    <tr>\n",
       "      <th>2</th>\n",
       "      <td>1</td>\n",
       "      <td>0</td>\n",
       "      <td>1</td>\n",
       "      <td>1</td>\n",
       "      <td>1</td>\n",
       "      <td>0</td>\n",
       "      <td>1</td>\n",
       "      <td>palabra no es una bolsa</td>\n",
       "    </tr>\n",
       "    <tr>\n",
       "      <th>3</th>\n",
       "      <td>2</td>\n",
       "      <td>0</td>\n",
       "      <td>1</td>\n",
       "      <td>0</td>\n",
       "      <td>0</td>\n",
       "      <td>0</td>\n",
       "      <td>1</td>\n",
       "      <td>bolsa es una bolsa</td>\n",
       "    </tr>\n",
       "    <tr>\n",
       "      <th>4</th>\n",
       "      <td>2</td>\n",
       "      <td>0</td>\n",
       "      <td>2</td>\n",
       "      <td>0</td>\n",
       "      <td>1</td>\n",
       "      <td>0</td>\n",
       "      <td>2</td>\n",
       "      <td>bolsa es una bolsa y es una palabra</td>\n",
       "    </tr>\n",
       "  </tbody>\n",
       "</table>\n",
       "</div>"
      ],
      "text/plain": [
       "   bolsa  de  es  no  palabra  palabras  una  \\\n",
       "0      1   1   0   0        0         1    0   \n",
       "1      1   0   1   0        1         0    1   \n",
       "2      1   0   1   1        1         0    1   \n",
       "3      2   0   1   0        0         0    1   \n",
       "4      2   0   2   0        1         0    2   \n",
       "\n",
       "                                 texto  \n",
       "0                    bolsa de palabras  \n",
       "1                 bolsa es una palabra  \n",
       "2              palabra no es una bolsa  \n",
       "3                   bolsa es una bolsa  \n",
       "4  bolsa es una bolsa y es una palabra  "
      ]
     },
     "execution_count": 11,
     "metadata": {},
     "output_type": "execute_result"
    }
   ],
   "source": [
    "import pandas as pd\n",
    "\n",
    "# Doy vuelta el vocabulario...\n",
    "vocabulario = {v:k for k, v in vect.vocabulary_.items()}\n",
    "vocabulario = [vocabulario[i] for i in range(len(vocabulario))]\n",
    "df = pd.DataFrame(mat.todense(), columns=vocabulario)\n",
    "df[\"texto\"] = textos\n",
    "df"
   ]
  },
  {
   "cell_type": "markdown",
   "metadata": {
    "id": "1PQdgcLJ41Mx"
   },
   "source": [
    "## Volvamos a IMDB\n",
    "\n",
    "Ahora, apliquemos esto a nuestros textos...\n",
    "\n",
    "No nos vamos a quedar con todas las palabras:\n",
    "\n",
    "- Sacar palabras muy frecuentes\n",
    "- Sacar palabras que aparecen muy pocas veces \n",
    "\n",
    "¿Por qué sirve esto? Lo que comentamos en la presentación."
   ]
  },
  {
   "cell_type": "code",
   "execution_count": 12,
   "metadata": {
    "colab": {
     "base_uri": "https://localhost:8080/"
    },
    "id": "qYF7LwOd49vz",
    "outputId": "e8aaea30-ddff-420a-f873-0587cece23a2"
   },
   "outputs": [
    {
     "data": {
      "text/plain": [
       "52815"
      ]
     },
     "execution_count": 12,
     "metadata": {},
     "output_type": "execute_result"
    }
   ],
   "source": [
    "vect = CountVectorizer()\n",
    "\n",
    "vect.fit(text_train)\n",
    "\n",
    "len(vect.vocabulary_)"
   ]
  },
  {
   "cell_type": "markdown",
   "metadata": {
    "id": "GLghxs6b8LOE"
   },
   "source": [
    "Esto es un montón. Reduzcámoslo un poco\n",
    "\n",
    "- `min_df`: palabras que aparezcan al menos 3 veces\n",
    "- `max_features`: Quedarme con las 5000 palabras más frecuentes\n",
    "- `binary`: Sólo marcar 0 o 1 de acuerdo a si aparece o no la palabra"
   ]
  },
  {
   "cell_type": "code",
   "execution_count": null,
   "metadata": {
    "colab": {
     "base_uri": "https://localhost:8080/"
    },
    "id": "2ch4SfSY5NdX",
    "outputId": "90f40f2f-f6c9-4a66-aade-5e42689c1c17"
   },
   "outputs": [],
   "source": [
    "vect = CountVectorizer(min_df=3, max_features=5000, binary=True)\n",
    "\n",
    "vect.fit(text_train)\n",
    "\n",
    "len(vect.vocabulary_)"
   ]
  },
  {
   "cell_type": "code",
   "execution_count": null,
   "metadata": {
    "id": "FiYawk8Y5gs0"
   },
   "outputs": [],
   "source": [
    "X_train = vect.transform(text_train)\n",
    "X_test = vect.transform(text_test)\n",
    "\n",
    "y_train = label_train# == 'positive' # Convertimos a vectores booleanos\n",
    "y_test = label_test# == \"positive\""
   ]
  },
  {
   "cell_type": "markdown",
   "metadata": {
    "id": "m4MxN_1PC5V_"
   },
   "source": [
    "Vamos a usar un clasificador KNN con 10 vecinos\n",
    "\n",
    "Recordemos que la idea de KNN es la siguiente:\n",
    "\n",
    "1. Buscar los k vecinos más cercanos en nuestro espacio $\\mathbb{R}^n$\n",
    "2. Efectuar una \"votación\" entre esos k-vecinos eligiendo la etiqueta más frecuente\n",
    "\n",
    "No estamos haciendo ninguna representación probabilística compleja ni hacemos asunción alguna sobre nuestros datos. Es un modelo **no paramétrico**.\n",
    "\n",
    "Vamos a usar la implementación de `sklearn`. Pueden ver el [User Guide](https://scikit-learn.org/stable/modules/neighbors.html#classification) y la [documentación del clasificador](https://scikit-learn.org/stable/modules/generated/sklearn.neighbors.KNeighborsClassifier.html)\n",
    "\n",
    "Primero, llamamos a una función `fit` que \"ajusta\" nuestro modelo a los datos."
   ]
  },
  {
   "cell_type": "code",
   "execution_count": null,
   "metadata": {
    "colab": {
     "base_uri": "https://localhost:8080/"
    },
    "id": "jqBlZHPH55iO",
    "outputId": "d47d4010-2095-4556-ee2e-d9d214b7c7fe"
   },
   "outputs": [],
   "source": [
    "from sklearn.neighbors import KNeighborsClassifier\n",
    "\n",
    "clf = KNeighborsClassifier(n_neighbors=10)\n",
    "\n",
    "clf.fit(X_train, y_train)"
   ]
  },
  {
   "cell_type": "code",
   "execution_count": null,
   "metadata": {
    "colab": {
     "base_uri": "https://localhost:8080/"
    },
    "id": "RjzpXkva6Am_",
    "outputId": "5a5b76de-0354-41d2-f96d-de195eb4f559"
   },
   "outputs": [],
   "source": [
    "%%time\n",
    "from sklearn.metrics import accuracy_score\n",
    "\n",
    "y_pred = clf.predict(X_test)\n",
    "acc = accuracy_score(y_test, y_pred)\n",
    "\n",
    "print(\"Accuracy: {:.3f}\".format(acc))"
   ]
  },
  {
   "cell_type": "markdown",
   "metadata": {
    "id": "E4u2V4-S6EQw"
   },
   "source": [
    "¿Podremos mejorarlo...?\n",
    "\n",
    "Veamos para varios valores de $k$ la performance del algoritmo"
   ]
  },
  {
   "cell_type": "code",
   "execution_count": null,
   "metadata": {
    "colab": {
     "base_uri": "https://localhost:8080/",
     "height": 49,
     "referenced_widgets": [
      "a96001fd009c452da0af3a5288387d47",
      "a4f641b2797d411687005a5031502e32",
      "c56e6794e8214afb92e2843d8e593d82",
      "24be14f1602e4213ba912b008b6c0c4b",
      "5e8fdd0670db4a83ad8cfa06828a69c9",
      "c0e30624163c4ddd829f93bc5d5bbebb",
      "8e204acc3756438eb6687f2240a1a1e0",
      "be463e38c644459e988eb632a896fc5b",
      "95e55b88ba654e9a996df19139117639",
      "a00d7d04f188421ab0b1f44a8648e617",
      "b260acd2cf5e4212a24eefb4dcfe066c"
     ]
    },
    "id": "DzNFxp5JDI8W",
    "outputId": "c4cf87a1-c926-4fbc-da0d-c4271ea8d2a9"
   },
   "outputs": [],
   "source": [
    "import matplotlib.pyplot as plt \n",
    "from tqdm.auto import tqdm\n",
    "\n",
    "results = []\n",
    "ks = range(2, 82, 4)\n",
    "\n",
    "for k in tqdm(ks):\n",
    "    clf = KNeighborsClassifier(n_neighbors=k)\n",
    "    clf.fit(X_train, y_train)\n",
    "\n",
    "    y_pred = clf.predict(X_test)\n",
    "    results.append(accuracy_score(y_test, y_pred))\n",
    "\n"
   ]
  },
  {
   "cell_type": "code",
   "execution_count": null,
   "metadata": {
    "colab": {
     "base_uri": "https://localhost:8080/",
     "height": 312
    },
    "id": "IXpfq3W8EWFE",
    "outputId": "6883885e-e0cc-4f93-98f9-e80d12fe83be"
   },
   "outputs": [],
   "source": [
    "plt.plot(ks, results, \"o-\")\n",
    "plt.xlabel(\"K\")\n",
    "plt.ylabel(\"Accuracy\")\n",
    "plt.title(\"Accuracy en test en función del valor de K\")"
   ]
  },
  {
   "cell_type": "markdown",
   "metadata": {
    "id": "PpSSXe9B_xvA"
   },
   "source": [
    "## Metodo de la potencia\n",
    "\n",
    "Vamos a hacer un pequeño intermezzo: vamos a ver cómo calcular autovalores y autovectores usando el método de la potencia\n",
    "\n",
    "Implementar las siguientes funciones (`power_iteration` y `eig`)"
   ]
  },
  {
   "cell_type": "code",
   "execution_count": null,
   "metadata": {
    "id": "z4lRE4Kn_zdZ"
   },
   "outputs": [],
   "source": [
    "import numpy as np\n",
    "\n",
    "def power_iteration(A, niter=10_000, eps=1e-6):\n",
    "    \"\"\"\n",
    "    Calcula el autovector al autovalor asociado de valor máximo\n",
    "    \n",
    "    \n",
    "    Devuelve (a, v) con a autovalor, y v autovector de A\n",
    "\n",
    "    Arguments:\n",
    "    ----------\n",
    "\n",
    "    A: np.array\n",
    "        Matriz de la cual quiero calcular el autovector y autovalor\n",
    "    \n",
    "    niter: int (> 0)\n",
    "        Cantidad de iteraciones\n",
    "\n",
    "    eps: Epsilon\n",
    "        Tolerancia utilizada en el criterio de parada\n",
    "    \"\"\"\n",
    "    \n",
    "    a = 1\n",
    "    v = np.ones(A.shape[0])\n",
    "    \"\"\"\n",
    "    TODO: Completar el método de la potencia\n",
    "\n",
    "    IMPORTANTE: Agreguen algún criterio de parada!\n",
    "    \"\"\"\n",
    "\n",
    "    return a, v\n"
   ]
  },
  {
   "cell_type": "markdown",
   "metadata": {
    "id": "upagm4FzHD-C"
   },
   "source": [
    "Hagamos un ejemplo que ya vimos:\n",
    "\n",
    "$$\n",
    "A = Q^T \\begin{pmatrix}\n",
    "d_1    &0     &0      &0      &\\\\\n",
    "0      &d_2   &0      &0      &\\\\\n",
    "\\vdots &\\vdots&\\ddots &\\vdots &\\\\\n",
    "0      &0     &0      &d_n    & \\\\\n",
    "\\end{pmatrix} Q \n",
    "$$\n",
    "\n",
    "con $Q = I - 2 v v^T$, $||v||_2=1$\n",
    " la matriz de reflexión que sabemos que es ortogonal\n",
    "\n",
    "Probemos calcular el método de la potencia con esto"
   ]
  },
  {
   "cell_type": "code",
   "execution_count": null,
   "metadata": {
    "colab": {
     "base_uri": "https://localhost:8080/"
    },
    "id": "xGhKPPcm_5qB",
    "outputId": "1f5a5c29-160a-4c18-91be-c6b6f23fa610"
   },
   "outputs": [],
   "source": [
    "import numpy as np\n",
    "\n",
    "D = np.diag([5.0, 4.0, 3.0, 2.0, 1.0])\n",
    "\n",
    "v = np.ones((D.shape[0], 1))\n",
    "\n",
    "v = v / np.linalg.norm(v)\n",
    "\n",
    "# Matriz de Householder\n",
    "B = np.eye(D.shape[0]) - 2 * (v @ v.T)\n",
    "\n",
    "# Matriz ya diagonalizada\n",
    "M = B.T @ D @ B\n",
    "\n",
    "power_iteration(M)"
   ]
  },
  {
   "cell_type": "markdown",
   "metadata": {
    "id": "zSrfM-3FH8y3"
   },
   "source": [
    "### Metodo de la potencia + Deflación\n",
    "\n",
    "Implementar método de la potencia + deflación"
   ]
  },
  {
   "cell_type": "code",
   "execution_count": null,
   "metadata": {
    "id": "KWYuBwdtB9hA"
   },
   "outputs": [],
   "source": [
    "def eig(A, num=2, niter=10000, eps=1e-6):\n",
    "    \"\"\"\n",
    "    Calculamos num autovalores y autovectores usando método de la potencia+deflación\n",
    "    \"\"\"\n",
    "    A = A.copy()\n",
    "    eigenvalues = []\n",
    "    eigenvectors = np.zeros((A.shape[0], num))\n",
    "    for i in range(num):\n",
    "        \"\"\"\n",
    "        TODO: Completar código\n",
    "        \"\"\"\n",
    "        pass    \n",
    "    return np.array(eigenvalues), eigenvectors\n"
   ]
  },
  {
   "cell_type": "code",
   "execution_count": null,
   "metadata": {
    "id": "pGYFi1v3C1Ne"
   },
   "outputs": [],
   "source": []
  }
 ],
 "metadata": {
  "colab": {
   "collapsed_sections": [],
   "name": "NLP_+_Autovalores.ipynb",
   "provenance": []
  },
  "kernelspec": {
   "display_name": "Python 3",
   "language": "python",
   "name": "python3"
  },
  "language_info": {
   "codemirror_mode": {
    "name": "ipython",
    "version": 3
   },
   "file_extension": ".py",
   "mimetype": "text/x-python",
   "name": "python",
   "nbconvert_exporter": "python",
   "pygments_lexer": "ipython3",
   "version": "3.7.3"
  },
  "widgets": {
   "application/vnd.jupyter.widget-state+json": {
    "24be14f1602e4213ba912b008b6c0c4b": {
     "model_module": "@jupyter-widgets/controls",
     "model_module_version": "1.5.0",
     "model_name": "FloatProgressModel",
     "state": {
      "_dom_classes": [],
      "_model_module": "@jupyter-widgets/controls",
      "_model_module_version": "1.5.0",
      "_model_name": "FloatProgressModel",
      "_view_count": null,
      "_view_module": "@jupyter-widgets/controls",
      "_view_module_version": "1.5.0",
      "_view_name": "ProgressView",
      "bar_style": "success",
      "description": "",
      "description_tooltip": null,
      "layout": "IPY_MODEL_95e55b88ba654e9a996df19139117639",
      "max": 20,
      "min": 0,
      "orientation": "horizontal",
      "style": "IPY_MODEL_be463e38c644459e988eb632a896fc5b",
      "value": 20
     }
    },
    "5e8fdd0670db4a83ad8cfa06828a69c9": {
     "model_module": "@jupyter-widgets/controls",
     "model_module_version": "1.5.0",
     "model_name": "HTMLModel",
     "state": {
      "_dom_classes": [],
      "_model_module": "@jupyter-widgets/controls",
      "_model_module_version": "1.5.0",
      "_model_name": "HTMLModel",
      "_view_count": null,
      "_view_module": "@jupyter-widgets/controls",
      "_view_module_version": "1.5.0",
      "_view_name": "HTMLView",
      "description": "",
      "description_tooltip": null,
      "layout": "IPY_MODEL_b260acd2cf5e4212a24eefb4dcfe066c",
      "placeholder": "​",
      "style": "IPY_MODEL_a00d7d04f188421ab0b1f44a8648e617",
      "value": " 20/20 [01:33&lt;00:00,  4.56s/it]"
     }
    },
    "8e204acc3756438eb6687f2240a1a1e0": {
     "model_module": "@jupyter-widgets/base",
     "model_module_version": "1.2.0",
     "model_name": "LayoutModel",
     "state": {
      "_model_module": "@jupyter-widgets/base",
      "_model_module_version": "1.2.0",
      "_model_name": "LayoutModel",
      "_view_count": null,
      "_view_module": "@jupyter-widgets/base",
      "_view_module_version": "1.2.0",
      "_view_name": "LayoutView",
      "align_content": null,
      "align_items": null,
      "align_self": null,
      "border": null,
      "bottom": null,
      "display": null,
      "flex": null,
      "flex_flow": null,
      "grid_area": null,
      "grid_auto_columns": null,
      "grid_auto_flow": null,
      "grid_auto_rows": null,
      "grid_column": null,
      "grid_gap": null,
      "grid_row": null,
      "grid_template_areas": null,
      "grid_template_columns": null,
      "grid_template_rows": null,
      "height": null,
      "justify_content": null,
      "justify_items": null,
      "left": null,
      "margin": null,
      "max_height": null,
      "max_width": null,
      "min_height": null,
      "min_width": null,
      "object_fit": null,
      "object_position": null,
      "order": null,
      "overflow": null,
      "overflow_x": null,
      "overflow_y": null,
      "padding": null,
      "right": null,
      "top": null,
      "visibility": null,
      "width": null
     }
    },
    "95e55b88ba654e9a996df19139117639": {
     "model_module": "@jupyter-widgets/base",
     "model_module_version": "1.2.0",
     "model_name": "LayoutModel",
     "state": {
      "_model_module": "@jupyter-widgets/base",
      "_model_module_version": "1.2.0",
      "_model_name": "LayoutModel",
      "_view_count": null,
      "_view_module": "@jupyter-widgets/base",
      "_view_module_version": "1.2.0",
      "_view_name": "LayoutView",
      "align_content": null,
      "align_items": null,
      "align_self": null,
      "border": null,
      "bottom": null,
      "display": null,
      "flex": null,
      "flex_flow": null,
      "grid_area": null,
      "grid_auto_columns": null,
      "grid_auto_flow": null,
      "grid_auto_rows": null,
      "grid_column": null,
      "grid_gap": null,
      "grid_row": null,
      "grid_template_areas": null,
      "grid_template_columns": null,
      "grid_template_rows": null,
      "height": null,
      "justify_content": null,
      "justify_items": null,
      "left": null,
      "margin": null,
      "max_height": null,
      "max_width": null,
      "min_height": null,
      "min_width": null,
      "object_fit": null,
      "object_position": null,
      "order": null,
      "overflow": null,
      "overflow_x": null,
      "overflow_y": null,
      "padding": null,
      "right": null,
      "top": null,
      "visibility": null,
      "width": null
     }
    },
    "a00d7d04f188421ab0b1f44a8648e617": {
     "model_module": "@jupyter-widgets/controls",
     "model_module_version": "1.5.0",
     "model_name": "DescriptionStyleModel",
     "state": {
      "_model_module": "@jupyter-widgets/controls",
      "_model_module_version": "1.5.0",
      "_model_name": "DescriptionStyleModel",
      "_view_count": null,
      "_view_module": "@jupyter-widgets/base",
      "_view_module_version": "1.2.0",
      "_view_name": "StyleView",
      "description_width": ""
     }
    },
    "a4f641b2797d411687005a5031502e32": {
     "model_module": "@jupyter-widgets/base",
     "model_module_version": "1.2.0",
     "model_name": "LayoutModel",
     "state": {
      "_model_module": "@jupyter-widgets/base",
      "_model_module_version": "1.2.0",
      "_model_name": "LayoutModel",
      "_view_count": null,
      "_view_module": "@jupyter-widgets/base",
      "_view_module_version": "1.2.0",
      "_view_name": "LayoutView",
      "align_content": null,
      "align_items": null,
      "align_self": null,
      "border": null,
      "bottom": null,
      "display": null,
      "flex": null,
      "flex_flow": null,
      "grid_area": null,
      "grid_auto_columns": null,
      "grid_auto_flow": null,
      "grid_auto_rows": null,
      "grid_column": null,
      "grid_gap": null,
      "grid_row": null,
      "grid_template_areas": null,
      "grid_template_columns": null,
      "grid_template_rows": null,
      "height": null,
      "justify_content": null,
      "justify_items": null,
      "left": null,
      "margin": null,
      "max_height": null,
      "max_width": null,
      "min_height": null,
      "min_width": null,
      "object_fit": null,
      "object_position": null,
      "order": null,
      "overflow": null,
      "overflow_x": null,
      "overflow_y": null,
      "padding": null,
      "right": null,
      "top": null,
      "visibility": null,
      "width": null
     }
    },
    "a96001fd009c452da0af3a5288387d47": {
     "model_module": "@jupyter-widgets/controls",
     "model_module_version": "1.5.0",
     "model_name": "HBoxModel",
     "state": {
      "_dom_classes": [],
      "_model_module": "@jupyter-widgets/controls",
      "_model_module_version": "1.5.0",
      "_model_name": "HBoxModel",
      "_view_count": null,
      "_view_module": "@jupyter-widgets/controls",
      "_view_module_version": "1.5.0",
      "_view_name": "HBoxView",
      "box_style": "",
      "children": [
       "IPY_MODEL_c56e6794e8214afb92e2843d8e593d82",
       "IPY_MODEL_24be14f1602e4213ba912b008b6c0c4b",
       "IPY_MODEL_5e8fdd0670db4a83ad8cfa06828a69c9"
      ],
      "layout": "IPY_MODEL_a4f641b2797d411687005a5031502e32"
     }
    },
    "b260acd2cf5e4212a24eefb4dcfe066c": {
     "model_module": "@jupyter-widgets/base",
     "model_module_version": "1.2.0",
     "model_name": "LayoutModel",
     "state": {
      "_model_module": "@jupyter-widgets/base",
      "_model_module_version": "1.2.0",
      "_model_name": "LayoutModel",
      "_view_count": null,
      "_view_module": "@jupyter-widgets/base",
      "_view_module_version": "1.2.0",
      "_view_name": "LayoutView",
      "align_content": null,
      "align_items": null,
      "align_self": null,
      "border": null,
      "bottom": null,
      "display": null,
      "flex": null,
      "flex_flow": null,
      "grid_area": null,
      "grid_auto_columns": null,
      "grid_auto_flow": null,
      "grid_auto_rows": null,
      "grid_column": null,
      "grid_gap": null,
      "grid_row": null,
      "grid_template_areas": null,
      "grid_template_columns": null,
      "grid_template_rows": null,
      "height": null,
      "justify_content": null,
      "justify_items": null,
      "left": null,
      "margin": null,
      "max_height": null,
      "max_width": null,
      "min_height": null,
      "min_width": null,
      "object_fit": null,
      "object_position": null,
      "order": null,
      "overflow": null,
      "overflow_x": null,
      "overflow_y": null,
      "padding": null,
      "right": null,
      "top": null,
      "visibility": null,
      "width": null
     }
    },
    "be463e38c644459e988eb632a896fc5b": {
     "model_module": "@jupyter-widgets/controls",
     "model_module_version": "1.5.0",
     "model_name": "ProgressStyleModel",
     "state": {
      "_model_module": "@jupyter-widgets/controls",
      "_model_module_version": "1.5.0",
      "_model_name": "ProgressStyleModel",
      "_view_count": null,
      "_view_module": "@jupyter-widgets/base",
      "_view_module_version": "1.2.0",
      "_view_name": "StyleView",
      "bar_color": null,
      "description_width": ""
     }
    },
    "c0e30624163c4ddd829f93bc5d5bbebb": {
     "model_module": "@jupyter-widgets/controls",
     "model_module_version": "1.5.0",
     "model_name": "DescriptionStyleModel",
     "state": {
      "_model_module": "@jupyter-widgets/controls",
      "_model_module_version": "1.5.0",
      "_model_name": "DescriptionStyleModel",
      "_view_count": null,
      "_view_module": "@jupyter-widgets/base",
      "_view_module_version": "1.2.0",
      "_view_name": "StyleView",
      "description_width": ""
     }
    },
    "c56e6794e8214afb92e2843d8e593d82": {
     "model_module": "@jupyter-widgets/controls",
     "model_module_version": "1.5.0",
     "model_name": "HTMLModel",
     "state": {
      "_dom_classes": [],
      "_model_module": "@jupyter-widgets/controls",
      "_model_module_version": "1.5.0",
      "_model_name": "HTMLModel",
      "_view_count": null,
      "_view_module": "@jupyter-widgets/controls",
      "_view_module_version": "1.5.0",
      "_view_name": "HTMLView",
      "description": "",
      "description_tooltip": null,
      "layout": "IPY_MODEL_8e204acc3756438eb6687f2240a1a1e0",
      "placeholder": "​",
      "style": "IPY_MODEL_c0e30624163c4ddd829f93bc5d5bbebb",
      "value": "100%"
     }
    }
   }
  }
 },
 "nbformat": 4,
 "nbformat_minor": 1
}

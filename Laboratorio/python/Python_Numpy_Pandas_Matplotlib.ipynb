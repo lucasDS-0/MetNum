{
  "cells": [
    {
      "cell_type": "markdown",
      "metadata": {
        "id": "3UHz-5ndiiFq"
      },
      "source": [
        "# Python"
      ]
    },
    {
      "cell_type": "markdown",
      "metadata": {
        "id": "hLQTjViMiiFz"
      },
      "source": [
        "Declaramos variables, no es necesario especificar el tipo"
      ]
    },
    {
      "cell_type": "code",
      "execution_count": null,
      "metadata": {
        "id": "zcgLs-OiiiF0"
      },
      "outputs": [],
      "source": [
        "x = 3"
      ]
    },
    {
      "cell_type": "code",
      "execution_count": null,
      "metadata": {
        "id": "ktI8zg28iiF6"
      },
      "outputs": [],
      "source": [
        "y = 4"
      ]
    },
    {
      "cell_type": "markdown",
      "metadata": {
        "id": "pnC6Kc6hiiF8"
      },
      "source": [
        "Podemos sumarlas"
      ]
    },
    {
      "cell_type": "code",
      "execution_count": null,
      "metadata": {
        "id": "JEy6NOluiiF9"
      },
      "outputs": [],
      "source": [
        "x + y"
      ]
    },
    {
      "cell_type": "markdown",
      "metadata": {
        "id": "gSzICMvmiiGB"
      },
      "source": [
        "Condicionales y como mostrar texto en pantalla"
      ]
    },
    {
      "cell_type": "code",
      "execution_count": null,
      "metadata": {
        "id": "422JUwQ7iiGC"
      },
      "outputs": [],
      "source": [
        "if x > 2:\n",
        "    print(\"Hola\")"
      ]
    },
    {
      "cell_type": "code",
      "execution_count": null,
      "metadata": {
        "id": "DH15MjF8iiGD"
      },
      "outputs": [],
      "source": [
        "if x > 3:\n",
        "    print(\"No entro\")\n",
        "else:\n",
        "    print(\"Entro\")"
      ]
    },
    {
      "cell_type": "markdown",
      "metadata": {
        "id": "pQDuVZWYiiGH"
      },
      "source": [
        "Podemos declarar un rango de números, intervalo semiabierto [0, 8)"
      ]
    },
    {
      "cell_type": "code",
      "execution_count": null,
      "metadata": {
        "id": "XdrvfiueiiGI"
      },
      "outputs": [],
      "source": [
        "range(8)"
      ]
    },
    {
      "cell_type": "markdown",
      "metadata": {
        "id": "tXmCV6PSiiGI"
      },
      "source": [
        "Podemos iterar sobre \"iterables\" (listas, rangos, conjuntos)"
      ]
    },
    {
      "cell_type": "code",
      "execution_count": null,
      "metadata": {
        "id": "zTAYrUQHiiGI"
      },
      "outputs": [],
      "source": [
        "y = 0\n",
        "for x in range(8):\n",
        "    y = y + 1\n",
        "print(y)"
      ]
    },
    {
      "cell_type": "markdown",
      "metadata": {
        "id": "0F6L6da0iiGJ"
      },
      "source": [
        "También podemos iterar con condiciones, usando while"
      ]
    },
    {
      "cell_type": "code",
      "execution_count": null,
      "metadata": {
        "id": "5S3kB5UKiiGK"
      },
      "outputs": [],
      "source": [
        "x = 10\n",
        "while x > 0:\n",
        "    print(x)\n",
        "    x -= 3"
      ]
    },
    {
      "cell_type": "markdown",
      "metadata": {
        "id": "SdJknDNTiiGK"
      },
      "source": [
        "Importamos bibliotecas (math trae funciones matemáticas)"
      ]
    },
    {
      "cell_type": "code",
      "execution_count": null,
      "metadata": {
        "id": "hSLET8bxiiGL"
      },
      "outputs": [],
      "source": [
        "import math"
      ]
    },
    {
      "cell_type": "markdown",
      "metadata": {
        "id": "msZmeEP6iiGL"
      },
      "source": [
        "Raiz cuadrada"
      ]
    },
    {
      "cell_type": "code",
      "execution_count": null,
      "metadata": {
        "id": "y-rKTkaciiGM"
      },
      "outputs": [],
      "source": [
        "math.sqrt(25)"
      ]
    },
    {
      "cell_type": "markdown",
      "metadata": {
        "id": "1gPJ2lsEiiGM"
      },
      "source": [
        "Podemos declarar listas"
      ]
    },
    {
      "cell_type": "code",
      "execution_count": null,
      "metadata": {
        "id": "GjGpjWIRiiGN"
      },
      "outputs": [],
      "source": [
        "l = [1, 2, 3]"
      ]
    },
    {
      "cell_type": "markdown",
      "metadata": {
        "id": "uROj1zoziiGN"
      },
      "source": [
        "Sumar los números de una lista"
      ]
    },
    {
      "cell_type": "code",
      "execution_count": null,
      "metadata": {
        "id": "sB3rg7dAiiGN"
      },
      "outputs": [],
      "source": [
        "sum(l)"
      ]
    },
    {
      "cell_type": "markdown",
      "metadata": {
        "id": "f-XEehHqiiGN"
      },
      "source": [
        "Pedir el tamaño de una lista"
      ]
    },
    {
      "cell_type": "code",
      "execution_count": null,
      "metadata": {
        "id": "DYSkl8tDiiGO"
      },
      "outputs": [],
      "source": [
        "len(l)"
      ]
    },
    {
      "cell_type": "code",
      "execution_count": null,
      "metadata": {
        "id": "PekaEy-viiGO"
      },
      "outputs": [],
      "source": [
        "sum(l) / len(l)"
      ]
    },
    {
      "cell_type": "markdown",
      "metadata": {
        "id": "3z7ewnbIiiGO"
      },
      "source": [
        "Una forma mas comoda de crear listas (listas por compresión)"
      ]
    },
    {
      "cell_type": "code",
      "execution_count": null,
      "metadata": {
        "id": "AW_z0w0SiiGO"
      },
      "outputs": [],
      "source": [
        "l = [i for i in range(3)]\n",
        "l"
      ]
    },
    {
      "cell_type": "markdown",
      "metadata": {
        "id": "ilZKiDKDiiGP"
      },
      "source": [
        "Tambien existen otros tipos basicos como las string"
      ]
    },
    {
      "cell_type": "code",
      "execution_count": null,
      "metadata": {
        "id": "ltsRoxZTiiGP"
      },
      "outputs": [],
      "source": [
        "a = \"hola\"\n",
        "b = \", como estas?\"\n",
        "print(a + b)"
      ]
    },
    {
      "cell_type": "markdown",
      "metadata": {
        "id": "P7cS4-TuiiGP"
      },
      "source": [
        "Otro tipo de datos util es el diccionario"
      ]
    },
    {
      "cell_type": "code",
      "execution_count": null,
      "metadata": {
        "id": "yZgrJyDhiiGP"
      },
      "outputs": [],
      "source": [
        "diccionario = {\n",
        "    'a': 1,\n",
        "    'b': 2\n",
        "}"
      ]
    },
    {
      "cell_type": "code",
      "execution_count": null,
      "metadata": {
        "id": "aAX18zJviiGQ"
      },
      "outputs": [],
      "source": [
        "diccionario['a']"
      ]
    },
    {
      "cell_type": "code",
      "execution_count": null,
      "metadata": {
        "id": "gH083I7IiiGQ"
      },
      "outputs": [],
      "source": [
        "diccionario['c'] = 3.14"
      ]
    },
    {
      "cell_type": "code",
      "execution_count": null,
      "metadata": {
        "id": "qWSs9-cZiiGQ"
      },
      "outputs": [],
      "source": [
        "diccionario"
      ]
    },
    {
      "cell_type": "markdown",
      "metadata": {
        "id": "pBB70x9biiGQ"
      },
      "source": [
        "Tambien podemos definir funciones"
      ]
    },
    {
      "cell_type": "code",
      "execution_count": null,
      "metadata": {
        "id": "C_-DggzdiiGR"
      },
      "outputs": [],
      "source": [
        "def sumar_uno(x):\n",
        "    return x + 1"
      ]
    },
    {
      "cell_type": "code",
      "execution_count": null,
      "metadata": {
        "id": "iOflpyI8iiGR"
      },
      "outputs": [],
      "source": [
        "sumar_uno(3)"
      ]
    },
    {
      "cell_type": "code",
      "execution_count": null,
      "metadata": {
        "id": "gz1sjOO-iiGR"
      },
      "outputs": [],
      "source": [
        "sumar_uno(x=3)"
      ]
    },
    {
      "cell_type": "markdown",
      "metadata": {
        "id": "1-SdGdMiiiGR"
      },
      "source": [
        "# Numpy"
      ]
    },
    {
      "cell_type": "markdown",
      "metadata": {
        "id": "sDhl07KwiiGR"
      },
      "source": [
        "Importamos la libreria"
      ]
    },
    {
      "cell_type": "code",
      "execution_count": null,
      "metadata": {
        "id": "VAeN285IiiGS"
      },
      "outputs": [],
      "source": [
        "import numpy as np"
      ]
    },
    {
      "cell_type": "markdown",
      "metadata": {
        "id": "n1F0SFbziiGS"
      },
      "source": [
        "Podemos declarar arrays a partir de listas"
      ]
    },
    {
      "cell_type": "code",
      "execution_count": null,
      "metadata": {
        "id": "HORFIgn6iiGS"
      },
      "outputs": [],
      "source": [
        "np.array([1, 2, 3, 4])"
      ]
    },
    {
      "cell_type": "markdown",
      "metadata": {
        "id": "PvSsE_pkiiGS"
      },
      "source": [
        "También podemos declarar utilizando intervalos"
      ]
    },
    {
      "cell_type": "code",
      "execution_count": null,
      "metadata": {
        "id": "XSfBblYUiiGS"
      },
      "outputs": [],
      "source": [
        "np.arange(1, 5)"
      ]
    },
    {
      "cell_type": "markdown",
      "metadata": {
        "id": "BvKubT5DiiGS"
      },
      "source": [
        "Intervalo sumando de a 2"
      ]
    },
    {
      "cell_type": "code",
      "execution_count": null,
      "metadata": {
        "id": "5i_0euudiiGT"
      },
      "outputs": [],
      "source": [
        "np.arange(1, 10, 2)"
      ]
    },
    {
      "cell_type": "markdown",
      "metadata": {
        "id": "2Mn1fwmXiiGT"
      },
      "source": [
        "Podemos samplear numeros aleatorios, utiles para generar instancias"
      ]
    },
    {
      "cell_type": "code",
      "execution_count": null,
      "metadata": {
        "id": "cvvTmmKsiiGT"
      },
      "outputs": [],
      "source": [
        "np.random.uniform(1, 10)"
      ]
    },
    {
      "cell_type": "markdown",
      "metadata": {
        "id": "3I__vJCEiiGT"
      },
      "source": [
        "Sampleamos 5 valores aleatorios (de una distribucion uniforme)"
      ]
    },
    {
      "cell_type": "code",
      "execution_count": null,
      "metadata": {
        "id": "BCdHjL0SiiGT"
      },
      "outputs": [],
      "source": [
        "np.random.uniform(1, 10, 5)"
      ]
    },
    {
      "cell_type": "code",
      "execution_count": null,
      "metadata": {
        "id": "Ro5EqESwiiGT"
      },
      "outputs": [],
      "source": [
        "np.random.uniform(-1, 1, (5, 2))"
      ]
    },
    {
      "cell_type": "markdown",
      "metadata": {
        "id": "mtQ1X4o9iiGU"
      },
      "source": [
        "Podemos también samplear números enteros"
      ]
    },
    {
      "cell_type": "code",
      "execution_count": null,
      "metadata": {
        "id": "yWJK8SOKiiGU"
      },
      "outputs": [],
      "source": [
        "np.random.randint(1, 10, 3)"
      ]
    },
    {
      "cell_type": "markdown",
      "metadata": {
        "id": "FntjmceviiGU"
      },
      "source": [
        "Podemos pedir la media de un arreglo de numeros"
      ]
    },
    {
      "cell_type": "code",
      "execution_count": null,
      "metadata": {
        "id": "ruPcPb0KiiGU"
      },
      "outputs": [],
      "source": [
        "x = np.array([1, 2, 3])\n",
        "x.mean()"
      ]
    },
    {
      "cell_type": "markdown",
      "metadata": {
        "id": "dWoQ0NJ_iiGU"
      },
      "source": [
        "O la suma"
      ]
    },
    {
      "cell_type": "code",
      "execution_count": null,
      "metadata": {
        "id": "YYoW9IxSiiGV"
      },
      "outputs": [],
      "source": [
        "x.sum()"
      ]
    },
    {
      "cell_type": "code",
      "execution_count": null,
      "metadata": {
        "id": "hOXGlftviiGV"
      },
      "outputs": [],
      "source": [
        "x[1]"
      ]
    },
    {
      "cell_type": "code",
      "execution_count": null,
      "metadata": {
        "id": "af6U6uHkiiGV"
      },
      "outputs": [],
      "source": [
        "x[0:1]"
      ]
    },
    {
      "cell_type": "code",
      "execution_count": null,
      "metadata": {
        "id": "Ylpc9hWaiiGW"
      },
      "outputs": [],
      "source": [
        "M = np.random.randint(0, 10, (3, 3))\n",
        "M"
      ]
    },
    {
      "cell_type": "code",
      "execution_count": null,
      "metadata": {
        "id": "9ACdrCbniiGW"
      },
      "outputs": [],
      "source": [
        "M[:, 1]"
      ]
    },
    {
      "cell_type": "code",
      "execution_count": null,
      "metadata": {
        "id": "pZnI6pS8iiGW"
      },
      "outputs": [],
      "source": [
        "M[1, :]"
      ]
    },
    {
      "cell_type": "code",
      "execution_count": null,
      "metadata": {
        "id": "Fx7OomTgiiGW"
      },
      "outputs": [],
      "source": [
        "M[0:2, :]"
      ]
    },
    {
      "cell_type": "markdown",
      "metadata": {
        "id": "CJ4LtqmMiiGX"
      },
      "source": [
        "# Pandas"
      ]
    },
    {
      "cell_type": "code",
      "execution_count": null,
      "metadata": {
        "id": "H2ZkM81riiGX"
      },
      "outputs": [],
      "source": [
        "import pandas as pd"
      ]
    },
    {
      "cell_type": "code",
      "execution_count": null,
      "metadata": {
        "id": "IgaLl58riiGX"
      },
      "outputs": [],
      "source": [
        "df = pd.DataFrame([\n",
        "    ['Roberto', 173],\n",
        "    ['Yamila', 165],\n",
        "    ['Jorge', 179]\n",
        "], columns=['Nombre', 'Altura'])"
      ]
    },
    {
      "cell_type": "code",
      "execution_count": null,
      "metadata": {
        "id": "MT3PMLd8iiGX"
      },
      "outputs": [],
      "source": [
        "df"
      ]
    },
    {
      "cell_type": "code",
      "execution_count": null,
      "metadata": {
        "id": "_-PHGELoiiGX"
      },
      "outputs": [],
      "source": [
        "df['Nombre']"
      ]
    },
    {
      "cell_type": "code",
      "execution_count": null,
      "metadata": {
        "id": "uojhMe3JiiGX"
      },
      "outputs": [],
      "source": [
        "df['Nombre'] == 'Roberto'"
      ]
    },
    {
      "cell_type": "code",
      "execution_count": null,
      "metadata": {
        "id": "_DJgvU6NiiGY"
      },
      "outputs": [],
      "source": [
        "df['Altura'] > 167"
      ]
    },
    {
      "cell_type": "code",
      "execution_count": null,
      "metadata": {
        "id": "LnnKB1_qiiGY"
      },
      "outputs": [],
      "source": [
        "df[[\n",
        "    True, False, True\n",
        "]]"
      ]
    },
    {
      "cell_type": "code",
      "execution_count": null,
      "metadata": {
        "id": "Q4SuMb55iiGY"
      },
      "outputs": [],
      "source": [
        "df[df['Altura'] > 167]"
      ]
    },
    {
      "cell_type": "code",
      "execution_count": null,
      "metadata": {
        "id": "F_FnzjviiiGY"
      },
      "outputs": [],
      "source": [
        "df.sort_values('Altura')"
      ]
    },
    {
      "cell_type": "code",
      "execution_count": null,
      "metadata": {
        "id": "U1E3VO5WiiGY"
      },
      "outputs": [],
      "source": [
        "df = pd.concat([\n",
        "    df,\n",
        "    pd.DataFrame([['Yamila', 170]], columns=['Nombre', 'Altura']),\n",
        "])\n",
        "df"
      ]
    },
    {
      "cell_type": "code",
      "execution_count": null,
      "metadata": {
        "id": "gd5CRWEyiiGZ"
      },
      "outputs": [],
      "source": [
        "df.groupby('Nombre')['Altura'].mean()"
      ]
    },
    {
      "cell_type": "markdown",
      "metadata": {
        "id": "Eule7UCuiiGZ"
      },
      "source": [
        "# Matplotlib / Seaborn"
      ]
    },
    {
      "cell_type": "code",
      "execution_count": null,
      "metadata": {
        "id": "YtNOHwiqiiGZ"
      },
      "outputs": [],
      "source": [
        "import seaborn as sns\n",
        "import matplotlib.pyplot as plt"
      ]
    },
    {
      "cell_type": "code",
      "execution_count": null,
      "metadata": {
        "id": "AH4EptFYiiGZ"
      },
      "outputs": [],
      "source": [
        "sns.lineplot(\n",
        "    [x for x in range(-20, 21)],\n",
        "    [x ** 2 for x in range(-20, 21)]\n",
        ")"
      ]
    },
    {
      "cell_type": "code",
      "execution_count": null,
      "metadata": {
        "id": "JvdompxQiiGZ"
      },
      "outputs": [],
      "source": [
        "sns.lineplot(\n",
        "    [x for x in range(-20, 21)],\n",
        "    [x ** 3 for x in range(-20, 21)]\n",
        ")"
      ]
    },
    {
      "cell_type": "code",
      "execution_count": null,
      "metadata": {
        "id": "W7F4PGgaiiGa"
      },
      "outputs": [],
      "source": [
        "puntos = np.random.uniform(-1, 1, (20, 3))\n",
        "sns.scatterplot(puntos[:, 0], puntos[:, 1])"
      ]
    },
    {
      "cell_type": "code",
      "execution_count": null,
      "metadata": {
        "id": "l2okYNv6iiGa"
      },
      "outputs": [],
      "source": [
        "sns.distplot(np.random.normal(8, 10, 100))"
      ]
    },
    {
      "cell_type": "code",
      "execution_count": null,
      "metadata": {
        "id": "HoqZGdFHiiGa"
      },
      "outputs": [],
      "source": [
        "sns.distplot(np.random.normal(8, 10, 100))\n",
        "sns.distplot(np.random.exponential(8, 100))"
      ]
    },
    {
      "cell_type": "code",
      "execution_count": null,
      "metadata": {
        "id": "f5j5V0c0iiGa"
      },
      "outputs": [],
      "source": [
        "sns.distplot(np.random.normal(8, 10, 100))\n",
        "plt.title(\"Distribución normal | mu = 8 | sigma = 10\")"
      ]
    },
    {
      "cell_type": "markdown",
      "metadata": {
        "id": "TZ70VygtiiGa"
      },
      "source": [
        "# Algo mas serio"
      ]
    },
    {
      "cell_type": "code",
      "execution_count": null,
      "metadata": {
        "id": "Ep-KXxMXiiGb"
      },
      "outputs": [],
      "source": [
        "df = pd.read_csv(\"crime.csv\", encoding=\"ISO-8859-1\")\n",
        "df.head()"
      ]
    },
    {
      "cell_type": "code",
      "execution_count": null,
      "metadata": {
        "id": "ANebMVugiiGb"
      },
      "outputs": [],
      "source": [
        "df.info()"
      ]
    },
    {
      "cell_type": "code",
      "execution_count": null,
      "metadata": {
        "id": "sN8Ek8HRiiGb"
      },
      "outputs": [],
      "source": [
        "df[['Lat', 'Long']].head()"
      ]
    },
    {
      "cell_type": "code",
      "execution_count": null,
      "metadata": {
        "id": "bdJqFrtNiiGb"
      },
      "outputs": [],
      "source": [
        "fig, axs = plt.subplots(1, 1, figsize=(10, 10))\n",
        "sns.scatterplot(data=df[df['Long'] < -10], x='Long', y='Lat', hue='DISTRICT')"
      ]
    },
    {
      "cell_type": "code",
      "execution_count": null,
      "metadata": {
        "id": "KnWwbBRmiiGb"
      },
      "outputs": [],
      "source": [
        "heatmap = df.groupby([\n",
        "    'DAY_OF_WEEK', 'HOUR'\n",
        "])['INCIDENT_NUMBER'].count().reset_index()\n",
        "heatmap.head()"
      ]
    },
    {
      "cell_type": "code",
      "execution_count": null,
      "metadata": {
        "id": "fQ-v4XSpiiGb"
      },
      "outputs": [],
      "source": [
        "heatmap = heatmap.pivot(columns='HOUR', index='DAY_OF_WEEK', values='INCIDENT_NUMBER')"
      ]
    },
    {
      "cell_type": "code",
      "execution_count": null,
      "metadata": {
        "id": "tYsSGcB-iiGc"
      },
      "outputs": [],
      "source": [
        "fig, axs = plt.subplots(1, 1, figsize=(20, 5))\n",
        "sns.heatmap(heatmap, annot=True, ax=axs, fmt=\".0f\")"
      ]
    },
    {
      "cell_type": "code",
      "execution_count": null,
      "metadata": {
        "id": "SXCSaHpziiGc"
      },
      "outputs": [],
      "source": [
        ""
      ]
    }
  ],
  "metadata": {
    "kernelspec": {
      "display_name": "Python 3",
      "language": "python",
      "name": "python3"
    },
    "language_info": {
      "codemirror_mode": {
        "name": "ipython",
        "version": 3
      },
      "file_extension": ".py",
      "mimetype": "text/x-python",
      "name": "python",
      "nbconvert_exporter": "python",
      "pygments_lexer": "ipython3",
      "version": "3.7.3"
    },
    "toc": {
      "base_numbering": 1,
      "nav_menu": {},
      "number_sections": true,
      "sideBar": true,
      "skip_h1_title": false,
      "title_cell": "Table of Contents",
      "title_sidebar": "Contents",
      "toc_cell": false,
      "toc_position": {},
      "toc_section_display": true,
      "toc_window_display": true
    },
    "colab": {
      "name": "Python-Numpy-Pandas-Matplotlib.ipynb",
      "provenance": []
    }
  },
  "nbformat": 4,
  "nbformat_minor": 0
}
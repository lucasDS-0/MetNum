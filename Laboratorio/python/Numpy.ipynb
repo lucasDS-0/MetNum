{
 "cells": [
  {
   "cell_type": "code",
   "execution_count": 1,
   "metadata": {},
   "outputs": [],
   "source": [
    "#H Hacemos los imports correspondientes a numpy\n",
    "import numpy as np\n",
    "import numpy.linalg as lng"
   ]
  },
  {
   "cell_type": "markdown",
   "metadata": {},
   "source": [
    "### Ejemplos\n",
    "Algunos ejemplos de operaciones matriciales básicas disponibles en numpy"
   ]
  },
  {
   "cell_type": "code",
   "execution_count": 2,
   "metadata": {},
   "outputs": [],
   "source": [
    "# Distintas maneras de inicializar una matriz\n",
    "A = np.array([[1,2],[3,4]])\n",
    "B = np.array(np.mat('9 10; 11 12')) # Subclase\n",
    "C = np.array([[5,6],[7,8]], dtype=float)\n",
    "\n",
    "# Para los vectores usamos matrices por columnas\n",
    "v = np.array([[11],[12]])\n",
    "w = np.array(np.mat('17; 18')) # Subclase\n",
    "x = np.array([21,22,23,24], ndmin=4)"
   ]
  },
  {
   "cell_type": "code",
   "execution_count": 3,
   "metadata": {},
   "outputs": [
    {
     "data": {
      "text/plain": [
       "array([[-2. ,  1. ],\n",
       "       [ 1.5, -0.5]])"
      ]
     },
     "execution_count": 3,
     "metadata": {},
     "output_type": "execute_result"
    }
   ],
   "source": [
    "# Matrices especiales\n",
    "I = np.eye(3) # Identidad de 3x3\n",
    "D = np.diag([77,90]) # Matriz diagonal\n",
    "N = np.zeros((3,4)) # Matriz nula de 3x3\n",
    "\n",
    "# Operaciones basicas entre matrices y vectores\n",
    "A + B       # Suma\n",
    "A - B       # Resta\n",
    "A @ B       # Producto de matrices\n",
    "A @ v       # Producto de matriz por vector\n",
    "3.2 * A     # Producto por escalar\n",
    "A**2        # Potencia\n",
    "A.T         # Traspuesta (transpose())\n",
    "lng.inv(A)  # Inversa"
   ]
  },
  {
   "cell_type": "markdown",
   "metadata": {},
   "source": [
    "### Ejercicio 1\n",
    "Dados x<sub>1</sub>, ..., x<sub>n</sub> una muestra de una variable aleatoria, implementar rutinas que calculen la media y la varianza utilizando operaciones vectoriales."
   ]
  },
  {
   "cell_type": "code",
   "execution_count": 13,
   "metadata": {},
   "outputs": [],
   "source": [
    "def mean(x):\n",
    "    # COMPLETAR\n",
    "    \n",
    "def var(x):\n",
    "    # COMPLETAR\n",
    "    "
   ]
  },
  {
   "cell_type": "code",
   "execution_count": null,
   "metadata": {},
   "outputs": [],
   "source": [
    "N = 4\n",
    "x = np.array(np.random.rand(N,1))\n",
    "print(\"x:\" + str(x) + \"\\n media: \" + str(mean(x)) + \" varianza: \" + str(var(x)))\n",
    "assert(np.abs(mean(x) - np.mean(x)) < 1e-6 )\n",
    "assert(np.abs(var(x) - np.var(x)) < 1e-6 )\n",
    "print(\"OK\")"
   ]
  },
  {
   "cell_type": "markdown",
   "metadata": {},
   "source": [
    "### Ejercicio 2\n",
    "Sea A matriz en R<sup>m×n</sup><br>\n",
    "1. Demostrar que A<sup>t</sup> A y AA<sup>t</sup> son simétricas<br>\n",
    "2. Implementar una rutina que dada una matriz cuadrada verifique si la misma es simétrica"
   ]
  },
  {
   "cell_type": "code",
   "execution_count": 3,
   "metadata": {},
   "outputs": [
    {
     "name": "stdout",
     "output_type": "stream",
     "text": [
      "A: \n",
      "[[1 2]\n",
      " [2 6]\n",
      " [3 7]\n",
      " [4 8]]\n",
      "B: \n",
      "[[0.37783374 0.53908518 0.82090228 0.07025189]\n",
      " [0.66712579 0.51538912 0.74848172 0.90433636]\n",
      " [0.73436199 0.26534833 0.68524983 0.84354985]\n",
      " [0.59545841 0.90847219 0.36393029 0.46011308]]\n",
      "OK\n"
     ]
    }
   ],
   "source": [
    "def esSimetrica(A):    \n",
    "    # COMPLETAR\n",
    "    \n"
   ]
  },
  {
   "cell_type": "code",
   "execution_count": null,
   "metadata": {},
   "outputs": [],
   "source": [
    "A = np.array([[1,2],[2,6],[3,7],[4,8]])\n",
    "B = np.random.rand(4,4)\n",
    "\n",
    "print(\"A: \\n\"  + str(A))\n",
    "print(\"B: \\n\" + str(B))\n",
    "assert(esSimetrica(A @ A.T))\n",
    "assert(esSimetrica(B.T @ B))\n",
    "print(\"OK\")"
   ]
  },
  {
   "cell_type": "markdown",
   "metadata": {},
   "source": [
    "### Ejercicio 3\n",
    "\n",
    "Analizar la función implementada en el item anterior con la matriz B generada de la siguiente forma:\n",
    "\n",
    "`A = np.random.rand(4,4)\n",
    "B = A.T * A * 0.1 / 0.1`\n",
    "\n",
    "Analizar el resultado, revisar la implementación y (eventualmente) reimplementar la función."
   ]
  },
  {
   "cell_type": "code",
   "execution_count": 5,
   "metadata": {},
   "outputs": [
    {
     "name": "stdout",
     "output_type": "stream",
     "text": [
      "[[0.71574789 0.19197766 0.90793541 0.8197275 ]\n",
      " [0.83168167 0.78640367 0.35078215 0.50343803]\n",
      " [0.75128037 0.71664088 0.47936216 0.81561268]\n",
      " [0.13453611 0.69429678 0.31643302 0.45533332]]\n",
      "Ok\n"
     ]
    }
   ],
   "source": [
    "D = np.array(np.diag([1,2]))\n",
    "I = np.array(np.eye(5))\n",
    "A = np.random.rand(4,4)\n",
    "\n",
    "print(A)\n",
    "assert(not(esSimetrica(A)))\n",
    "\n",
    "# Ojo! usamos @ para el producto matricial\n",
    "assert(esSimetrica(A.T@(A*0.10)/0.10))\n",
    "assert(esSimetrica(D) and esSimetrica(I))\n",
    "print(\"Ok\")"
   ]
  },
  {
   "cell_type": "markdown",
   "metadata": {},
   "source": [
    "### Ejercicio 4\n",
    "Sean A, B en R<sup>n×n</sup>, con n par y B triangular inferior,\n",
    "1. Realizar la multiplicación AB por bloques, partiendo ambas matrices en bloques de tamaño n/2.\n",
    "2. Implementar una rutina que realice la multiplicación por bloques, evitando cuentas innecesarias."
   ]
  },
  {
   "cell_type": "code",
   "execution_count": 19,
   "metadata": {},
   "outputs": [
    {
     "name": "stdout",
     "output_type": "stream",
     "text": [
      "Ok\n"
     ]
    }
   ],
   "source": [
    "def block_multiplication(A,B): \n",
    "    \n",
    "    n = A.shape[0]\n",
    "    assert(n % 2 == 0)\n",
    "    \n",
    "    # Completar\n",
    "    A11 = None\n",
    "    A12 = None\n",
    "    A21 = None\n",
    "    A22 = None\n",
    "    \n",
    "    B11 = None\n",
    "    B12 = None\n",
    "    B21 = None\n",
    "    B22 = None\n",
    "    \n",
    "    C_11 = None\n",
    "    C_12 = None\n",
    "    C_21 = None\n",
    "    C_22 = None\n",
    "    \n",
    "    return np.block([[C_11,C_12],[C_21,C_22]])\n"
   ]
  },
  {
   "cell_type": "code",
   "execution_count": null,
   "metadata": {},
   "outputs": [],
   "source": [
    "N = 4\n",
    "A = np.array(np.random.rand(N,N))\n",
    "B = np.array(np.random.rand(N,N))\n",
    "assert(np.allclose(A @ B,block_multiplication(A,B)))\n",
    "\n",
    "print(\"Ok\")"
   ]
  },
  {
   "cell_type": "code",
   "execution_count": null,
   "metadata": {},
   "outputs": [],
   "source": []
  }
 ],
 "metadata": {
  "kernelspec": {
   "display_name": "Python 3",
   "language": "python",
   "name": "python3"
  },
  "language_info": {
   "codemirror_mode": {
    "name": "ipython",
    "version": 3
   },
   "file_extension": ".py",
   "mimetype": "text/x-python",
   "name": "python",
   "nbconvert_exporter": "python",
   "pygments_lexer": "ipython3",
   "version": "3.6.9"
  }
 },
 "nbformat": 4,
 "nbformat_minor": 2
}

{
  "nbformat": 4,
  "nbformat_minor": 0,
  "metadata": {
    "colab": {
      "name": "Pandas.ipynb",
      "provenance": [],
      "collapsed_sections": []
    },
    "kernelspec": {
      "name": "python3",
      "display_name": "Python 3"
    },
    "language_info": {
      "name": "python"
    }
  },
  "cells": [
    {
      "cell_type": "markdown",
      "source": [
        "Importar Pandas"
      ],
      "metadata": {
        "id": "RC-HLmea-K3f"
      }
    },
    {
      "cell_type": "code",
      "source": [
        ""
      ],
      "metadata": {
        "id": "ijcSCbzl-Nar"
      },
      "execution_count": null,
      "outputs": []
    },
    {
      "cell_type": "markdown",
      "source": [
        "Leer el dataset desde: https://data.boston.gov/dataset/6220d948-eae2-4e4b-8723-2dc8e67722a3/resource/f4495ee9-c42c-4019-82c1-d067f07e45d2/download/tmp7_f32p54.csv"
      ],
      "metadata": {
        "id": "cG6nm8mm-pH7"
      }
    },
    {
      "cell_type": "code",
      "source": [
        ""
      ],
      "metadata": {
        "id": "fpAxil7P-XIf"
      },
      "execution_count": null,
      "outputs": []
    },
    {
      "cell_type": "markdown",
      "source": [
        "Mostrar las primeras 10 filas"
      ],
      "metadata": {
        "id": "B1JaJd2i-Ur_"
      }
    },
    {
      "cell_type": "code",
      "source": [
        ""
      ],
      "metadata": {
        "id": "PNiLX1aQ-X9W"
      },
      "execution_count": null,
      "outputs": []
    },
    {
      "cell_type": "markdown",
      "source": [
        "Mostrar las columnas del dataframe"
      ],
      "metadata": {
        "id": "Q1zUowpP-SX9"
      }
    },
    {
      "cell_type": "code",
      "source": [
        ""
      ],
      "metadata": {
        "id": "-C3oIuM0-R5w"
      },
      "execution_count": null,
      "outputs": []
    },
    {
      "cell_type": "markdown",
      "source": [
        "¿Cuántas filas tiene el dataset?"
      ],
      "metadata": {
        "id": "nFwWL-kq-ZQk"
      }
    },
    {
      "cell_type": "code",
      "source": [
        ""
      ],
      "metadata": {
        "id": "EGaSFfGu_aPg"
      },
      "execution_count": null,
      "outputs": []
    },
    {
      "cell_type": "markdown",
      "source": [
        "¿Cuál es el código de ofensa más realizada?"
      ],
      "metadata": {
        "id": "w9PsD1-L_bO0"
      }
    },
    {
      "cell_type": "code",
      "source": [
        ""
      ],
      "metadata": {
        "id": "6pSRalh1_krx"
      },
      "execution_count": null,
      "outputs": []
    },
    {
      "cell_type": "markdown",
      "source": [
        "¿Cuál es el código de ofensa más realizada los días miércoles?"
      ],
      "metadata": {
        "id": "BKikl56d_mC2"
      }
    },
    {
      "cell_type": "code",
      "source": [
        ""
      ],
      "metadata": {
        "id": "B78stip7AJFu"
      },
      "execution_count": null,
      "outputs": []
    },
    {
      "cell_type": "markdown",
      "source": [
        "Ordenar el dataframe por el campo Street y mostrar las 10 primeras entradas"
      ],
      "metadata": {
        "id": "3L393RU8AJtF"
      }
    },
    {
      "cell_type": "code",
      "source": [
        ""
      ],
      "metadata": {
        "id": "QYSTH_alAojd"
      },
      "execution_count": null,
      "outputs": []
    },
    {
      "cell_type": "markdown",
      "source": [
        "Pasar a minúsculas todos las descripciones de ofensas"
      ],
      "metadata": {
        "id": "aUBlS4QAApLR"
      }
    },
    {
      "cell_type": "code",
      "source": [
        ""
      ],
      "metadata": {
        "id": "LegO-keoBlc2"
      },
      "execution_count": null,
      "outputs": []
    },
    {
      "cell_type": "markdown",
      "source": [
        "¿Cuál es la distribución en deciles de la Latitud de los crímenes?"
      ],
      "metadata": {
        "id": "HSCf7D-3BmFB"
      }
    },
    {
      "cell_type": "code",
      "source": [
        ""
      ],
      "metadata": {
        "id": "IlMq95NeCA8D"
      },
      "execution_count": null,
      "outputs": []
    },
    {
      "cell_type": "markdown",
      "source": [
        "Crear una nueva columna con la longitud de la calle donde sucedió el crimen"
      ],
      "metadata": {
        "id": "rADPD9VtCBcA"
      }
    },
    {
      "cell_type": "code",
      "source": [
        ""
      ],
      "metadata": {
        "id": "WIILk_iUCq_3"
      },
      "execution_count": null,
      "outputs": []
    },
    {
      "cell_type": "markdown",
      "source": [
        "¿Cuál es la suma de las longitudes calculadas?"
      ],
      "metadata": {
        "id": "UIsaOQqRCryA"
      }
    },
    {
      "cell_type": "code",
      "source": [
        ""
      ],
      "metadata": {
        "id": "Nin3cHYOCwd9"
      },
      "execution_count": null,
      "outputs": []
    },
    {
      "cell_type": "markdown",
      "source": [
        "¿Y la mediana?"
      ],
      "metadata": {
        "id": "C4-PxO75CxLA"
      }
    },
    {
      "cell_type": "code",
      "source": [
        ""
      ],
      "metadata": {
        "id": "sXBCLqnZCypU"
      },
      "execution_count": null,
      "outputs": []
    },
    {
      "cell_type": "markdown",
      "source": [
        "¿Cuál es el promedio de esas mismas longitudes pero agrupando los datos en cada día de la semana?"
      ],
      "metadata": {
        "id": "8CGjgvWMCzOa"
      }
    },
    {
      "cell_type": "code",
      "source": [
        ""
      ],
      "metadata": {
        "id": "dxJcFu1LC7Xs"
      },
      "execution_count": null,
      "outputs": []
    }
  ]
}